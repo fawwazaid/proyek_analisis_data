{
 "cells": [
  {
   "cell_type": "markdown",
   "id": "c69fb884-a020-4c93-8524-a940ebd80f2a",
   "metadata": {},
   "source": [
    "# **Quantitative Finance Course**\n",
    "---\n",
    "Introduction to Algoritmic Trading with Python using Machine Learning"
   ]
  },
  {
   "cell_type": "markdown",
   "id": "b3b8c2bc-07a6-4aff-aa97-3b77cc9c7de3",
   "metadata": {},
   "source": [
    "### What is Machine Learning?\n",
    "\n",
    "Machine learning (ML) is a method where computers learn from data to make predictions or decisions. Instead of manually programming rules, we provide examples, and the model finds patterns to make accurate guesses. Let’s break this down using two examples:\n",
    "\n",
    "\n",
    "\n",
    "\n",
    "<center><img src=\"https://sekolahdata-assets.s3.ap-southeast-1.amazonaws.com/notebook-images/free-quant-3/house-prices-graph-using-linear-regression_1.jpg\">Source</a></center>\n",
    "\n",
    "Imagine you want to predict house prices. One key factor is the square footage of the house.\n",
    "\n",
    "**Concept of X (Features) and y (Target Variable):**\n",
    "- X (Input/Feature): The independent variable(s) we use to predict something (e.g., Square Feet).\n",
    "- y (Output/Target): The dependent variable we want to predict (e.g., House Price)."
   ]
  },
  {
   "cell_type": "markdown",
   "id": "526ede11-0267-4342-a341-852448c0c30a",
   "metadata": {},
   "source": [
    "### Why Use Machine Learning ?\n",
    "---"
   ]
  },
  {
   "cell_type": "markdown",
   "id": "7562e256-0483-4b6b-86fb-c8933f2f6fd9",
   "metadata": {},
   "source": [
    "#### 1. Capture Non Linear Relationship\n",
    "---\n",
    "\n",
    "\n",
    "<center><img src=\"https://vitalflux.com/wp-content/uploads/2022/04/Linearly-vs-Not-linearly-separable-datasets.png\"><a href=\"https://vitalflux.com/wp-content/uploads/2022/04/Linearly-vs-Not-linearly-separable-datasets.png\">Source</a></center>"
   ]
  },
  {
   "cell_type": "markdown",
   "id": "b4b631ef-c3d2-43e5-ae6c-24575adbcec2",
   "metadata": {},
   "source": [
    "#### 2. Focus on Predictive Accuracy\n",
    "---\n",
    "\n",
    "Machine Learning model often perform better than simple linear model\n",
    "\n",
    "\n",
    "<center><img src=\"https://sekolahdata-assets.s3.ap-southeast-1.amazonaws.com/notebook-images/quant-sc-03/rf_vs_lr.png\n",
    "\"></center>"
   ]
  },
  {
   "cell_type": "markdown",
   "id": "629b2f75-0102-4ddd-a0b0-d04eeef13e49",
   "metadata": {},
   "source": [
    "What can machine learning do in Finance :\n",
    "\n",
    "  "
   ]
  },
  {
   "cell_type": "markdown",
   "id": "9f38c839-1a32-44bc-8efc-d9bc326d2f95",
   "metadata": {},
   "source": [
    "1. **Return Prediction**\n",
    "\n",
    "   Predicting Return of collection of stocks\n",
    "\n",
    "\n",
    "\n",
    "\n"
   ]
  },
  {
   "cell_type": "markdown",
   "id": "97526264-c19f-4e54-95be-f87d289519fb",
   "metadata": {},
   "source": [
    "2. **Portofolio Construction**\n",
    "\n",
    "   Allocating each stock / investment for amount of capital to Form a Portofolio\n",
    "\n",
    "\n"
   ]
  },
  {
   "cell_type": "markdown",
   "id": "f8018c25-2472-4239-80df-5874cf5cbc36",
   "metadata": {},
   "source": [
    "3. **Trade Decision Model**\n",
    "\n",
    "    Predict Whether to buy or sell an asset\n"
   ]
  },
  {
   "cell_type": "markdown",
   "id": "1b7513dd-1b41-45bf-acbf-bceb6ebfa477",
   "metadata": {},
   "source": [
    "## Modeling Case : Return Prediction\n",
    "\n",
    "---"
   ]
  },
  {
   "cell_type": "markdown",
   "id": "3c35dce9-f7a1-4b88-adcc-aa54073643dd",
   "metadata": {},
   "source": [
    "**Case Description** :\n",
    "\n",
    "We are going to predict future return of a stock ? Why not price ?\n"
   ]
  },
  {
   "cell_type": "markdown",
   "id": "2384d8c2-20aa-4e58-b83b-fd9737c437df",
   "metadata": {},
   "source": [
    "**Data** :\n",
    "---\n",
    "\n",
    "1. Input\n",
    "   What factor can be included to predict future return ?\n",
    "\n",
    "   Some of them can be :     \n",
    "\n",
    "   - Past Return\n",
    "   - Dividend\n",
    "   - Fundamental Variable as in Financial Report\n",
    "   - News Data ?\n",
    "\n",
    "2. Output\n",
    "\n",
    "   This is the return we are going to predict\n",
    "\n",
    "   Questions :     \n",
    "\n",
    "   - What Type of Return ? Gross Return / Pct Return /\n",
    "   - What Period of Time we are going to use ? Monthly / Daily / Quarterly / Annualy ?"
   ]
  },
  {
   "cell_type": "markdown",
   "id": "9084b0be-0168-4bc1-aa15-68e77a6982b7",
   "metadata": {},
   "source": [
    "- **Input** : Previous 3 Month Return\n",
    "\n",
    "- **Output** :  Next month percentage return"
   ]
  },
  {
   "cell_type": "markdown",
   "id": "ba433ccc-df51-4e57-958b-57462c800c1b",
   "metadata": {},
   "source": [
    "### Preparing Data\n",
    "\n",
    "---"
   ]
  },
  {
   "cell_type": "markdown",
   "id": "f9e8e3ad-20c6-40b1-b441-2164b33a2a97",
   "metadata": {},
   "source": [
    "Goals :    \n",
    "- Obtaining Input and Output"
   ]
  },
  {
   "cell_type": "markdown",
   "id": "79465d04-5926-40bf-a098-46d1325fd4af",
   "metadata": {},
   "source": [
    "- Fetching stock data (Astra International Tbk. Ticker `ASII.JK`) from yahoo finance from `2010-01-01` to `2024-12-31`"
   ]
  },
  {
   "cell_type": "code",
   "execution_count": 1,
   "id": "2ef0e7f6-023d-442a-892b-112ad1db635c",
   "metadata": {},
   "outputs": [
    {
     "name": "stdout",
     "output_type": "stream",
     "text": [
      "0.2.66\n"
     ]
    }
   ],
   "source": [
    "import yfinance as yf\n",
    "print(yf.__version__)\n",
    "\n"
   ]
  },
  {
   "cell_type": "code",
   "execution_count": 2,
   "id": "64f48c2b-c6e6-4525-ac1f-42abdced22fd",
   "metadata": {},
   "outputs": [],
   "source": [
    "#!pip install yfinance"
   ]
  },
  {
   "cell_type": "code",
   "execution_count": 3,
   "id": "a49d5029-ca00-4ecb-a1c5-d5d5d793ddf5",
   "metadata": {},
   "outputs": [],
   "source": [
    "import pandas as pd\n",
    "import yfinance as yf\n",
    "import numpy as np\n",
    "import seaborn as sns\n",
    "import matplotlib.pyplot as plt\n",
    "import warnings\n",
    "\n",
    "warnings.filterwarnings('ignore')\n",
    "plt.style.use('ggplot')\n"
   ]
  },
  {
   "cell_type": "code",
   "execution_count": 4,
   "id": "6f83d1da-d619-48ad-a0e6-e6095987214c",
   "metadata": {},
   "outputs": [
    {
     "data": {
      "text/html": [
       "<div>\n",
       "<style scoped>\n",
       "    .dataframe tbody tr th:only-of-type {\n",
       "        vertical-align: middle;\n",
       "    }\n",
       "\n",
       "    .dataframe tbody tr th {\n",
       "        vertical-align: top;\n",
       "    }\n",
       "\n",
       "    .dataframe thead th {\n",
       "        text-align: right;\n",
       "    }\n",
       "</style>\n",
       "<table border=\"1\" class=\"dataframe\">\n",
       "  <thead>\n",
       "    <tr style=\"text-align: right;\">\n",
       "      <th></th>\n",
       "      <th>Open</th>\n",
       "      <th>High</th>\n",
       "      <th>Low</th>\n",
       "      <th>Close</th>\n",
       "      <th>Adj Close</th>\n",
       "      <th>Volume</th>\n",
       "      <th>Dividends</th>\n",
       "      <th>Stock Splits</th>\n",
       "    </tr>\n",
       "    <tr>\n",
       "      <th>Date</th>\n",
       "      <th></th>\n",
       "      <th></th>\n",
       "      <th></th>\n",
       "      <th></th>\n",
       "      <th></th>\n",
       "      <th></th>\n",
       "      <th></th>\n",
       "      <th></th>\n",
       "    </tr>\n",
       "  </thead>\n",
       "  <tbody>\n",
       "    <tr>\n",
       "      <th>2010-01-04 00:00:00+07:00</th>\n",
       "      <td>3530.0</td>\n",
       "      <td>3550.0</td>\n",
       "      <td>3465.0</td>\n",
       "      <td>3530.0</td>\n",
       "      <td>1838.515259</td>\n",
       "      <td>40</td>\n",
       "      <td>0.0</td>\n",
       "      <td>0.0</td>\n",
       "    </tr>\n",
       "    <tr>\n",
       "      <th>2010-01-05 00:00:00+07:00</th>\n",
       "      <td>3550.0</td>\n",
       "      <td>3570.0</td>\n",
       "      <td>3485.0</td>\n",
       "      <td>3550.0</td>\n",
       "      <td>1848.931641</td>\n",
       "      <td>40</td>\n",
       "      <td>0.0</td>\n",
       "      <td>0.0</td>\n",
       "    </tr>\n",
       "    <tr>\n",
       "      <th>2010-01-06 00:00:00+07:00</th>\n",
       "      <td>3530.0</td>\n",
       "      <td>3580.0</td>\n",
       "      <td>3515.0</td>\n",
       "      <td>3530.0</td>\n",
       "      <td>1838.515259</td>\n",
       "      <td>40</td>\n",
       "      <td>0.0</td>\n",
       "      <td>0.0</td>\n",
       "    </tr>\n",
       "  </tbody>\n",
       "</table>\n",
       "</div>"
      ],
      "text/plain": [
       "                             Open    High     Low   Close    Adj Close  \\\n",
       "Date                                                                     \n",
       "2010-01-04 00:00:00+07:00  3530.0  3550.0  3465.0  3530.0  1838.515259   \n",
       "2010-01-05 00:00:00+07:00  3550.0  3570.0  3485.0  3550.0  1848.931641   \n",
       "2010-01-06 00:00:00+07:00  3530.0  3580.0  3515.0  3530.0  1838.515259   \n",
       "\n",
       "                           Volume  Dividends  Stock Splits  \n",
       "Date                                                        \n",
       "2010-01-04 00:00:00+07:00      40        0.0           0.0  \n",
       "2010-01-05 00:00:00+07:00      40        0.0           0.0  \n",
       "2010-01-06 00:00:00+07:00      40        0.0           0.0  "
      ]
     },
     "execution_count": 4,
     "metadata": {},
     "output_type": "execute_result"
    }
   ],
   "source": [
    "start_date = '2010-01-01'\n",
    "end_date = '2024-12-31'\n",
    "\n",
    "stock_data = yf.Ticker('ASII.JK')\\\n",
    "               .history(start=start_date,\n",
    "                        end=end_date,auto_adjust=False)\n",
    "\n",
    "# check the data\n",
    "stock_data.head(3)"
   ]
  },
  {
   "cell_type": "code",
   "execution_count": 5,
   "id": "95926890-f9bf-46c9-b465-bde0d2f753f5",
   "metadata": {},
   "outputs": [
    {
     "name": "stdout",
     "output_type": "stream",
     "text": [
      "Shape of Data  : \n",
      " \n",
      " Number of Rows : 3700 \n",
      " Number of Columns : 8\n",
      "\n",
      "\n"
     ]
    }
   ],
   "source": [
    "print(f'Shape of Data  : \\n \\n Number of Rows : {stock_data.shape[0]} \\n Number of Columns : {stock_data.shape[1]}')\n",
    "print('\\n')\n"
   ]
  },
  {
   "cell_type": "markdown",
   "id": "5ec3d054-0cac-4573-9879-2cb1ce866151",
   "metadata": {},
   "source": [
    "- Resample data from `Daily` into `Monthly` ? So which stock price we choose ?\n",
    "  - At the beginning of the month ?\n",
    "  - Average ?\n",
    "  - Median ?\n",
    "  - In the End of the Month?\n",
    "\n",
    "- Answer : **In the End of the Month**"
   ]
  },
  {
   "cell_type": "code",
   "execution_count": 6,
   "id": "7341bd84-5e6a-46b6-a0a0-ebb6057362a5",
   "metadata": {},
   "outputs": [
    {
     "data": {
      "text/html": [
       "<div>\n",
       "<style scoped>\n",
       "    .dataframe tbody tr th:only-of-type {\n",
       "        vertical-align: middle;\n",
       "    }\n",
       "\n",
       "    .dataframe tbody tr th {\n",
       "        vertical-align: top;\n",
       "    }\n",
       "\n",
       "    .dataframe thead th {\n",
       "        text-align: right;\n",
       "    }\n",
       "</style>\n",
       "<table border=\"1\" class=\"dataframe\">\n",
       "  <thead>\n",
       "    <tr style=\"text-align: right;\">\n",
       "      <th></th>\n",
       "      <th>Open</th>\n",
       "      <th>High</th>\n",
       "      <th>Low</th>\n",
       "      <th>Close</th>\n",
       "      <th>Adj Close</th>\n",
       "      <th>Volume</th>\n",
       "      <th>Dividends</th>\n",
       "      <th>Stock Splits</th>\n",
       "    </tr>\n",
       "    <tr>\n",
       "      <th>Date</th>\n",
       "      <th></th>\n",
       "      <th></th>\n",
       "      <th></th>\n",
       "      <th></th>\n",
       "      <th></th>\n",
       "      <th></th>\n",
       "      <th></th>\n",
       "      <th></th>\n",
       "    </tr>\n",
       "  </thead>\n",
       "  <tbody>\n",
       "    <tr>\n",
       "      <th>2010-01-31 00:00:00+07:00</th>\n",
       "      <td>3595.0</td>\n",
       "      <td>3600.0</td>\n",
       "      <td>3485.0</td>\n",
       "      <td>3595.0</td>\n",
       "      <td>1872.369019</td>\n",
       "      <td>40</td>\n",
       "      <td>0.0</td>\n",
       "      <td>0.0</td>\n",
       "    </tr>\n",
       "    <tr>\n",
       "      <th>2010-02-28 00:00:00+07:00</th>\n",
       "      <td>3625.0</td>\n",
       "      <td>3680.0</td>\n",
       "      <td>3575.0</td>\n",
       "      <td>3625.0</td>\n",
       "      <td>1887.994019</td>\n",
       "      <td>27700000</td>\n",
       "      <td>0.0</td>\n",
       "      <td>0.0</td>\n",
       "    </tr>\n",
       "    <tr>\n",
       "      <th>2010-03-31 00:00:00+07:00</th>\n",
       "      <td>4190.0</td>\n",
       "      <td>4320.0</td>\n",
       "      <td>4190.0</td>\n",
       "      <td>4190.0</td>\n",
       "      <td>2182.260010</td>\n",
       "      <td>34990000</td>\n",
       "      <td>0.0</td>\n",
       "      <td>0.0</td>\n",
       "    </tr>\n",
       "    <tr>\n",
       "      <th>2010-04-30 00:00:00+07:00</th>\n",
       "      <td>4715.0</td>\n",
       "      <td>4720.0</td>\n",
       "      <td>4645.0</td>\n",
       "      <td>4715.0</td>\n",
       "      <td>2455.693848</td>\n",
       "      <td>38990000</td>\n",
       "      <td>0.0</td>\n",
       "      <td>0.0</td>\n",
       "    </tr>\n",
       "    <tr>\n",
       "      <th>2010-05-31 00:00:00+07:00</th>\n",
       "      <td>4315.0</td>\n",
       "      <td>4335.0</td>\n",
       "      <td>4215.0</td>\n",
       "      <td>4315.0</td>\n",
       "      <td>2247.363525</td>\n",
       "      <td>64990000</td>\n",
       "      <td>0.0</td>\n",
       "      <td>0.0</td>\n",
       "    </tr>\n",
       "    <tr>\n",
       "      <th>...</th>\n",
       "      <td>...</td>\n",
       "      <td>...</td>\n",
       "      <td>...</td>\n",
       "      <td>...</td>\n",
       "      <td>...</td>\n",
       "      <td>...</td>\n",
       "      <td>...</td>\n",
       "      <td>...</td>\n",
       "    </tr>\n",
       "    <tr>\n",
       "      <th>2024-08-31 00:00:00+07:00</th>\n",
       "      <td>5075.0</td>\n",
       "      <td>5125.0</td>\n",
       "      <td>5025.0</td>\n",
       "      <td>5100.0</td>\n",
       "      <td>4684.548828</td>\n",
       "      <td>74429400</td>\n",
       "      <td>0.0</td>\n",
       "      <td>0.0</td>\n",
       "    </tr>\n",
       "    <tr>\n",
       "      <th>2024-09-30 00:00:00+07:00</th>\n",
       "      <td>5100.0</td>\n",
       "      <td>5100.0</td>\n",
       "      <td>5000.0</td>\n",
       "      <td>5050.0</td>\n",
       "      <td>4638.622070</td>\n",
       "      <td>66737800</td>\n",
       "      <td>0.0</td>\n",
       "      <td>0.0</td>\n",
       "    </tr>\n",
       "    <tr>\n",
       "      <th>2024-10-31 00:00:00+07:00</th>\n",
       "      <td>5300.0</td>\n",
       "      <td>5300.0</td>\n",
       "      <td>5100.0</td>\n",
       "      <td>5100.0</td>\n",
       "      <td>4776.790039</td>\n",
       "      <td>77263000</td>\n",
       "      <td>0.0</td>\n",
       "      <td>0.0</td>\n",
       "    </tr>\n",
       "    <tr>\n",
       "      <th>2024-11-30 00:00:00+07:00</th>\n",
       "      <td>5125.0</td>\n",
       "      <td>5125.0</td>\n",
       "      <td>5025.0</td>\n",
       "      <td>5100.0</td>\n",
       "      <td>4776.790039</td>\n",
       "      <td>48756800</td>\n",
       "      <td>0.0</td>\n",
       "      <td>0.0</td>\n",
       "    </tr>\n",
       "    <tr>\n",
       "      <th>2024-12-31 00:00:00+07:00</th>\n",
       "      <td>4930.0</td>\n",
       "      <td>4940.0</td>\n",
       "      <td>4880.0</td>\n",
       "      <td>4900.0</td>\n",
       "      <td>4589.465332</td>\n",
       "      <td>23926400</td>\n",
       "      <td>0.0</td>\n",
       "      <td>0.0</td>\n",
       "    </tr>\n",
       "  </tbody>\n",
       "</table>\n",
       "<p>180 rows × 8 columns</p>\n",
       "</div>"
      ],
      "text/plain": [
       "                             Open    High     Low   Close    Adj Close  \\\n",
       "Date                                                                     \n",
       "2010-01-31 00:00:00+07:00  3595.0  3600.0  3485.0  3595.0  1872.369019   \n",
       "2010-02-28 00:00:00+07:00  3625.0  3680.0  3575.0  3625.0  1887.994019   \n",
       "2010-03-31 00:00:00+07:00  4190.0  4320.0  4190.0  4190.0  2182.260010   \n",
       "2010-04-30 00:00:00+07:00  4715.0  4720.0  4645.0  4715.0  2455.693848   \n",
       "2010-05-31 00:00:00+07:00  4315.0  4335.0  4215.0  4315.0  2247.363525   \n",
       "...                           ...     ...     ...     ...          ...   \n",
       "2024-08-31 00:00:00+07:00  5075.0  5125.0  5025.0  5100.0  4684.548828   \n",
       "2024-09-30 00:00:00+07:00  5100.0  5100.0  5000.0  5050.0  4638.622070   \n",
       "2024-10-31 00:00:00+07:00  5300.0  5300.0  5100.0  5100.0  4776.790039   \n",
       "2024-11-30 00:00:00+07:00  5125.0  5125.0  5025.0  5100.0  4776.790039   \n",
       "2024-12-31 00:00:00+07:00  4930.0  4940.0  4880.0  4900.0  4589.465332   \n",
       "\n",
       "                             Volume  Dividends  Stock Splits  \n",
       "Date                                                          \n",
       "2010-01-31 00:00:00+07:00        40        0.0           0.0  \n",
       "2010-02-28 00:00:00+07:00  27700000        0.0           0.0  \n",
       "2010-03-31 00:00:00+07:00  34990000        0.0           0.0  \n",
       "2010-04-30 00:00:00+07:00  38990000        0.0           0.0  \n",
       "2010-05-31 00:00:00+07:00  64990000        0.0           0.0  \n",
       "...                             ...        ...           ...  \n",
       "2024-08-31 00:00:00+07:00  74429400        0.0           0.0  \n",
       "2024-09-30 00:00:00+07:00  66737800        0.0           0.0  \n",
       "2024-10-31 00:00:00+07:00  77263000        0.0           0.0  \n",
       "2024-11-30 00:00:00+07:00  48756800        0.0           0.0  \n",
       "2024-12-31 00:00:00+07:00  23926400        0.0           0.0  \n",
       "\n",
       "[180 rows x 8 columns]"
      ]
     },
     "execution_count": 6,
     "metadata": {},
     "output_type": "execute_result"
    }
   ],
   "source": [
    "stock_data_monthly = stock_data.copy()\n",
    "stock_data_monthly = stock_data_monthly.resample('M').last()\n",
    "stock_data_monthly"
   ]
  },
  {
   "cell_type": "markdown",
   "id": "91fdec5f-b54a-4480-b9c5-010afef34cea",
   "metadata": {},
   "source": [
    "- Calculate Nett Return\n",
    "\n",
    "$$\n",
    "\\mathbf{R}_{t} = \\left( \\frac{\\mathbf{P}_{t}-\\mathbf{P}_{t-1}}{\\mathbf{P}_{t-1}} \\right)\n",
    "$$\n",
    "\n",
    "- $\\mathbf{R}_{t}$ : Percentage Return at time t\n",
    "- $\\mathbf{P}_{t}$ : Close Price at time t"
   ]
  },
  {
   "cell_type": "markdown",
   "id": "7a758d92-3b17-406d-9fc2-5f5b53cb6965",
   "metadata": {},
   "source": [
    "**Question**\n",
    "\n",
    "- How to Calculate Nett Return at January 2012 ?"
   ]
  },
  {
   "cell_type": "code",
   "execution_count": 7,
   "id": "81189f46-656d-4983-8bb5-fd938d934581",
   "metadata": {},
   "outputs": [
    {
     "data": {
      "text/html": [
       "<div>\n",
       "<style scoped>\n",
       "    .dataframe tbody tr th:only-of-type {\n",
       "        vertical-align: middle;\n",
       "    }\n",
       "\n",
       "    .dataframe tbody tr th {\n",
       "        vertical-align: top;\n",
       "    }\n",
       "\n",
       "    .dataframe thead th {\n",
       "        text-align: right;\n",
       "    }\n",
       "</style>\n",
       "<table border=\"1\" class=\"dataframe\">\n",
       "  <thead>\n",
       "    <tr style=\"text-align: right;\">\n",
       "      <th></th>\n",
       "      <th>Close</th>\n",
       "    </tr>\n",
       "    <tr>\n",
       "      <th>Date</th>\n",
       "      <th></th>\n",
       "    </tr>\n",
       "  </thead>\n",
       "  <tbody>\n",
       "    <tr>\n",
       "      <th>2010-01-31 00:00:00+07:00</th>\n",
       "      <td>3595.0</td>\n",
       "    </tr>\n",
       "    <tr>\n",
       "      <th>2010-02-28 00:00:00+07:00</th>\n",
       "      <td>3625.0</td>\n",
       "    </tr>\n",
       "    <tr>\n",
       "      <th>2010-03-31 00:00:00+07:00</th>\n",
       "      <td>4190.0</td>\n",
       "    </tr>\n",
       "  </tbody>\n",
       "</table>\n",
       "</div>"
      ],
      "text/plain": [
       "                            Close\n",
       "Date                             \n",
       "2010-01-31 00:00:00+07:00  3595.0\n",
       "2010-02-28 00:00:00+07:00  3625.0\n",
       "2010-03-31 00:00:00+07:00  4190.0"
      ]
     },
     "execution_count": 7,
     "metadata": {},
     "output_type": "execute_result"
    }
   ],
   "source": [
    "# we only need close price\n",
    "cols_to_use = ['Close']\n",
    "stock_data_monthly = stock_data_monthly[cols_to_use]\n",
    "stock_data_monthly.head(3)"
   ]
  },
  {
   "cell_type": "code",
   "execution_count": 8,
   "id": "2354d511-3642-4412-9588-3d69360bd4d4",
   "metadata": {},
   "outputs": [
    {
     "data": {
      "text/html": [
       "<div>\n",
       "<style scoped>\n",
       "    .dataframe tbody tr th:only-of-type {\n",
       "        vertical-align: middle;\n",
       "    }\n",
       "\n",
       "    .dataframe tbody tr th {\n",
       "        vertical-align: top;\n",
       "    }\n",
       "\n",
       "    .dataframe thead th {\n",
       "        text-align: right;\n",
       "    }\n",
       "</style>\n",
       "<table border=\"1\" class=\"dataframe\">\n",
       "  <thead>\n",
       "    <tr style=\"text-align: right;\">\n",
       "      <th></th>\n",
       "      <th>Close</th>\n",
       "      <th>Last Month Close</th>\n",
       "    </tr>\n",
       "    <tr>\n",
       "      <th>Date</th>\n",
       "      <th></th>\n",
       "      <th></th>\n",
       "    </tr>\n",
       "  </thead>\n",
       "  <tbody>\n",
       "    <tr>\n",
       "      <th>2010-01-31 00:00:00+07:00</th>\n",
       "      <td>3595.0</td>\n",
       "      <td>NaN</td>\n",
       "    </tr>\n",
       "    <tr>\n",
       "      <th>2010-02-28 00:00:00+07:00</th>\n",
       "      <td>3625.0</td>\n",
       "      <td>3595.0</td>\n",
       "    </tr>\n",
       "    <tr>\n",
       "      <th>2010-03-31 00:00:00+07:00</th>\n",
       "      <td>4190.0</td>\n",
       "      <td>3625.0</td>\n",
       "    </tr>\n",
       "  </tbody>\n",
       "</table>\n",
       "</div>"
      ],
      "text/plain": [
       "                            Close  Last Month Close\n",
       "Date                                               \n",
       "2010-01-31 00:00:00+07:00  3595.0               NaN\n",
       "2010-02-28 00:00:00+07:00  3625.0            3595.0\n",
       "2010-03-31 00:00:00+07:00  4190.0            3625.0"
      ]
     },
     "execution_count": 8,
     "metadata": {},
     "output_type": "execute_result"
    }
   ],
   "source": [
    "# calculate nett return\n",
    "stock_data_monthly['Last Month Close'] = stock_data_monthly['Close'].shift(1)\n",
    "stock_data_monthly.head(3)"
   ]
  },
  {
   "cell_type": "code",
   "execution_count": 9,
   "id": "aa15aa1e-9d1a-4124-9eef-b3bdeb5cfb8f",
   "metadata": {},
   "outputs": [
    {
     "data": {
      "text/html": [
       "<div>\n",
       "<style scoped>\n",
       "    .dataframe tbody tr th:only-of-type {\n",
       "        vertical-align: middle;\n",
       "    }\n",
       "\n",
       "    .dataframe tbody tr th {\n",
       "        vertical-align: top;\n",
       "    }\n",
       "\n",
       "    .dataframe thead th {\n",
       "        text-align: right;\n",
       "    }\n",
       "</style>\n",
       "<table border=\"1\" class=\"dataframe\">\n",
       "  <thead>\n",
       "    <tr style=\"text-align: right;\">\n",
       "      <th></th>\n",
       "      <th>Close</th>\n",
       "      <th>Last Month Close</th>\n",
       "      <th>NettReturn</th>\n",
       "    </tr>\n",
       "    <tr>\n",
       "      <th>Date</th>\n",
       "      <th></th>\n",
       "      <th></th>\n",
       "      <th></th>\n",
       "    </tr>\n",
       "  </thead>\n",
       "  <tbody>\n",
       "    <tr>\n",
       "      <th>2010-01-31 00:00:00+07:00</th>\n",
       "      <td>3595.0</td>\n",
       "      <td>NaN</td>\n",
       "      <td>NaN</td>\n",
       "    </tr>\n",
       "    <tr>\n",
       "      <th>2010-02-28 00:00:00+07:00</th>\n",
       "      <td>3625.0</td>\n",
       "      <td>3595.0</td>\n",
       "      <td>0.008345</td>\n",
       "    </tr>\n",
       "    <tr>\n",
       "      <th>2010-03-31 00:00:00+07:00</th>\n",
       "      <td>4190.0</td>\n",
       "      <td>3625.0</td>\n",
       "      <td>0.155862</td>\n",
       "    </tr>\n",
       "  </tbody>\n",
       "</table>\n",
       "</div>"
      ],
      "text/plain": [
       "                            Close  Last Month Close  NettReturn\n",
       "Date                                                           \n",
       "2010-01-31 00:00:00+07:00  3595.0               NaN         NaN\n",
       "2010-02-28 00:00:00+07:00  3625.0            3595.0    0.008345\n",
       "2010-03-31 00:00:00+07:00  4190.0            3625.0    0.155862"
      ]
     },
     "execution_count": 9,
     "metadata": {},
     "output_type": "execute_result"
    }
   ],
   "source": [
    "stock_data_monthly['NettReturn'] = (stock_data_monthly['Close']\\\n",
    "                                    - stock_data_monthly['Last Month Close'])\\\n",
    "                                    / (stock_data_monthly['Last Month Close'])\n",
    "stock_data_monthly.head(3)"
   ]
  },
  {
   "cell_type": "markdown",
   "id": "8f0a0497-a298-4f56-a494-c85e96925b13",
   "metadata": {},
   "source": [
    "- Calculate Lag Return 12 (Momentum Lag 12)\n",
    "\n",
    "\n",
    "$$\n",
    "\\mathbf{LagReturn}_{t-12} = \\left( \\frac{\\mathbf{P}_{t-2}-\\mathbf{P}_{t-12}}{\\mathbf{P}_{t-12}} \\right)\n",
    "$$\n",
    "\n",
    "- $\\mathbf{P}_{t}$ : Close Price at time t"
   ]
  },
  {
   "cell_type": "code",
   "execution_count": 10,
   "id": "784a0137-6e79-428b-ba41-a068a1bdc834",
   "metadata": {},
   "outputs": [
    {
     "data": {
      "text/html": [
       "<div>\n",
       "<style scoped>\n",
       "    .dataframe tbody tr th:only-of-type {\n",
       "        vertical-align: middle;\n",
       "    }\n",
       "\n",
       "    .dataframe tbody tr th {\n",
       "        vertical-align: top;\n",
       "    }\n",
       "\n",
       "    .dataframe thead th {\n",
       "        text-align: right;\n",
       "    }\n",
       "</style>\n",
       "<table border=\"1\" class=\"dataframe\">\n",
       "  <thead>\n",
       "    <tr style=\"text-align: right;\">\n",
       "      <th></th>\n",
       "      <th>Close</th>\n",
       "      <th>Last Month Close</th>\n",
       "      <th>NettReturn</th>\n",
       "      <th>Price_T-2</th>\n",
       "    </tr>\n",
       "    <tr>\n",
       "      <th>Date</th>\n",
       "      <th></th>\n",
       "      <th></th>\n",
       "      <th></th>\n",
       "      <th></th>\n",
       "    </tr>\n",
       "  </thead>\n",
       "  <tbody>\n",
       "    <tr>\n",
       "      <th>2010-01-31 00:00:00+07:00</th>\n",
       "      <td>3595.0</td>\n",
       "      <td>NaN</td>\n",
       "      <td>NaN</td>\n",
       "      <td>NaN</td>\n",
       "    </tr>\n",
       "    <tr>\n",
       "      <th>2010-02-28 00:00:00+07:00</th>\n",
       "      <td>3625.0</td>\n",
       "      <td>3595.0</td>\n",
       "      <td>0.008345</td>\n",
       "      <td>NaN</td>\n",
       "    </tr>\n",
       "    <tr>\n",
       "      <th>2010-03-31 00:00:00+07:00</th>\n",
       "      <td>4190.0</td>\n",
       "      <td>3625.0</td>\n",
       "      <td>0.155862</td>\n",
       "      <td>3595.0</td>\n",
       "    </tr>\n",
       "  </tbody>\n",
       "</table>\n",
       "</div>"
      ],
      "text/plain": [
       "                            Close  Last Month Close  NettReturn  Price_T-2\n",
       "Date                                                                      \n",
       "2010-01-31 00:00:00+07:00  3595.0               NaN         NaN        NaN\n",
       "2010-02-28 00:00:00+07:00  3625.0            3595.0    0.008345        NaN\n",
       "2010-03-31 00:00:00+07:00  4190.0            3625.0    0.155862     3595.0"
      ]
     },
     "execution_count": 10,
     "metadata": {},
     "output_type": "execute_result"
    }
   ],
   "source": [
    "# get previous 2 month price\n",
    "stock_data_monthly['Price_T-2'] = stock_data_monthly['Close'].shift(2)\n",
    "stock_data_monthly.head(3)"
   ]
  },
  {
   "cell_type": "code",
   "execution_count": 11,
   "id": "2797e66e-90fb-4d1e-9c3d-83404741d3e1",
   "metadata": {},
   "outputs": [
    {
     "data": {
      "text/html": [
       "<div>\n",
       "<style scoped>\n",
       "    .dataframe tbody tr th:only-of-type {\n",
       "        vertical-align: middle;\n",
       "    }\n",
       "\n",
       "    .dataframe tbody tr th {\n",
       "        vertical-align: top;\n",
       "    }\n",
       "\n",
       "    .dataframe thead th {\n",
       "        text-align: right;\n",
       "    }\n",
       "</style>\n",
       "<table border=\"1\" class=\"dataframe\">\n",
       "  <thead>\n",
       "    <tr style=\"text-align: right;\">\n",
       "      <th></th>\n",
       "      <th>Close</th>\n",
       "      <th>Last Month Close</th>\n",
       "      <th>NettReturn</th>\n",
       "      <th>Price_T-2</th>\n",
       "      <th>Price_T-12</th>\n",
       "    </tr>\n",
       "    <tr>\n",
       "      <th>Date</th>\n",
       "      <th></th>\n",
       "      <th></th>\n",
       "      <th></th>\n",
       "      <th></th>\n",
       "      <th></th>\n",
       "    </tr>\n",
       "  </thead>\n",
       "  <tbody>\n",
       "    <tr>\n",
       "      <th>2010-01-31 00:00:00+07:00</th>\n",
       "      <td>3595.0</td>\n",
       "      <td>NaN</td>\n",
       "      <td>NaN</td>\n",
       "      <td>NaN</td>\n",
       "      <td>NaN</td>\n",
       "    </tr>\n",
       "    <tr>\n",
       "      <th>2010-02-28 00:00:00+07:00</th>\n",
       "      <td>3625.0</td>\n",
       "      <td>3595.0</td>\n",
       "      <td>0.008345</td>\n",
       "      <td>NaN</td>\n",
       "      <td>NaN</td>\n",
       "    </tr>\n",
       "    <tr>\n",
       "      <th>2010-03-31 00:00:00+07:00</th>\n",
       "      <td>4190.0</td>\n",
       "      <td>3625.0</td>\n",
       "      <td>0.155862</td>\n",
       "      <td>3595.0</td>\n",
       "      <td>NaN</td>\n",
       "    </tr>\n",
       "    <tr>\n",
       "      <th>2010-04-30 00:00:00+07:00</th>\n",
       "      <td>4715.0</td>\n",
       "      <td>4190.0</td>\n",
       "      <td>0.125298</td>\n",
       "      <td>3625.0</td>\n",
       "      <td>NaN</td>\n",
       "    </tr>\n",
       "  </tbody>\n",
       "</table>\n",
       "</div>"
      ],
      "text/plain": [
       "                            Close  Last Month Close  NettReturn  Price_T-2  \\\n",
       "Date                                                                         \n",
       "2010-01-31 00:00:00+07:00  3595.0               NaN         NaN        NaN   \n",
       "2010-02-28 00:00:00+07:00  3625.0            3595.0    0.008345        NaN   \n",
       "2010-03-31 00:00:00+07:00  4190.0            3625.0    0.155862     3595.0   \n",
       "2010-04-30 00:00:00+07:00  4715.0            4190.0    0.125298     3625.0   \n",
       "\n",
       "                           Price_T-12  \n",
       "Date                                   \n",
       "2010-01-31 00:00:00+07:00         NaN  \n",
       "2010-02-28 00:00:00+07:00         NaN  \n",
       "2010-03-31 00:00:00+07:00         NaN  \n",
       "2010-04-30 00:00:00+07:00         NaN  "
      ]
     },
     "execution_count": 11,
     "metadata": {},
     "output_type": "execute_result"
    }
   ],
   "source": [
    "# get previous 12 month price\n",
    "stock_data_monthly['Price_T-12'] = stock_data_monthly['Close'].shift(12)\n",
    "stock_data_monthly.head(4)"
   ]
  },
  {
   "cell_type": "code",
   "execution_count": 12,
   "id": "d8ac8b63-6216-4fda-8339-20cfea6d32fa",
   "metadata": {},
   "outputs": [
    {
     "data": {
      "text/html": [
       "<div>\n",
       "<style scoped>\n",
       "    .dataframe tbody tr th:only-of-type {\n",
       "        vertical-align: middle;\n",
       "    }\n",
       "\n",
       "    .dataframe tbody tr th {\n",
       "        vertical-align: top;\n",
       "    }\n",
       "\n",
       "    .dataframe thead th {\n",
       "        text-align: right;\n",
       "    }\n",
       "</style>\n",
       "<table border=\"1\" class=\"dataframe\">\n",
       "  <thead>\n",
       "    <tr style=\"text-align: right;\">\n",
       "      <th></th>\n",
       "      <th>Close</th>\n",
       "      <th>Last Month Close</th>\n",
       "      <th>NettReturn</th>\n",
       "      <th>Price_T-2</th>\n",
       "      <th>Price_T-12</th>\n",
       "      <th>LagReturn-12</th>\n",
       "    </tr>\n",
       "    <tr>\n",
       "      <th>Date</th>\n",
       "      <th></th>\n",
       "      <th></th>\n",
       "      <th></th>\n",
       "      <th></th>\n",
       "      <th></th>\n",
       "      <th></th>\n",
       "    </tr>\n",
       "  </thead>\n",
       "  <tbody>\n",
       "    <tr>\n",
       "      <th>2010-01-31 00:00:00+07:00</th>\n",
       "      <td>3595.0</td>\n",
       "      <td>NaN</td>\n",
       "      <td>NaN</td>\n",
       "      <td>NaN</td>\n",
       "      <td>NaN</td>\n",
       "      <td>NaN</td>\n",
       "    </tr>\n",
       "    <tr>\n",
       "      <th>2010-02-28 00:00:00+07:00</th>\n",
       "      <td>3625.0</td>\n",
       "      <td>3595.0</td>\n",
       "      <td>0.008345</td>\n",
       "      <td>NaN</td>\n",
       "      <td>NaN</td>\n",
       "      <td>NaN</td>\n",
       "    </tr>\n",
       "    <tr>\n",
       "      <th>2010-03-31 00:00:00+07:00</th>\n",
       "      <td>4190.0</td>\n",
       "      <td>3625.0</td>\n",
       "      <td>0.155862</td>\n",
       "      <td>3595.0</td>\n",
       "      <td>NaN</td>\n",
       "      <td>NaN</td>\n",
       "    </tr>\n",
       "    <tr>\n",
       "      <th>2010-04-30 00:00:00+07:00</th>\n",
       "      <td>4715.0</td>\n",
       "      <td>4190.0</td>\n",
       "      <td>0.125298</td>\n",
       "      <td>3625.0</td>\n",
       "      <td>NaN</td>\n",
       "      <td>NaN</td>\n",
       "    </tr>\n",
       "  </tbody>\n",
       "</table>\n",
       "</div>"
      ],
      "text/plain": [
       "                            Close  Last Month Close  NettReturn  Price_T-2  \\\n",
       "Date                                                                         \n",
       "2010-01-31 00:00:00+07:00  3595.0               NaN         NaN        NaN   \n",
       "2010-02-28 00:00:00+07:00  3625.0            3595.0    0.008345        NaN   \n",
       "2010-03-31 00:00:00+07:00  4190.0            3625.0    0.155862     3595.0   \n",
       "2010-04-30 00:00:00+07:00  4715.0            4190.0    0.125298     3625.0   \n",
       "\n",
       "                           Price_T-12  LagReturn-12  \n",
       "Date                                                 \n",
       "2010-01-31 00:00:00+07:00         NaN           NaN  \n",
       "2010-02-28 00:00:00+07:00         NaN           NaN  \n",
       "2010-03-31 00:00:00+07:00         NaN           NaN  \n",
       "2010-04-30 00:00:00+07:00         NaN           NaN  "
      ]
     },
     "execution_count": 12,
     "metadata": {},
     "output_type": "execute_result"
    }
   ],
   "source": [
    "# calculate momentum\n",
    "stock_data_monthly['LagReturn-12'] = (stock_data_monthly['Price_T-2'] -  stock_data_monthly['Price_T-12'])\\\n",
    "                            / (stock_data_monthly['Price_T-12'])\n",
    "stock_data_monthly.head(4)"
   ]
  },
  {
   "cell_type": "markdown",
   "id": "39ec458c-86b5-45cf-b52c-fed4bc8406d3",
   "metadata": {},
   "source": [
    "- Drop the missing data"
   ]
  },
  {
   "cell_type": "code",
   "execution_count": 13,
   "id": "ba0b4462-7bfe-4958-8cca-74f8c012a94a",
   "metadata": {},
   "outputs": [
    {
     "data": {
      "text/html": [
       "<div>\n",
       "<style scoped>\n",
       "    .dataframe tbody tr th:only-of-type {\n",
       "        vertical-align: middle;\n",
       "    }\n",
       "\n",
       "    .dataframe tbody tr th {\n",
       "        vertical-align: top;\n",
       "    }\n",
       "\n",
       "    .dataframe thead th {\n",
       "        text-align: right;\n",
       "    }\n",
       "</style>\n",
       "<table border=\"1\" class=\"dataframe\">\n",
       "  <thead>\n",
       "    <tr style=\"text-align: right;\">\n",
       "      <th></th>\n",
       "      <th>Close</th>\n",
       "      <th>Last Month Close</th>\n",
       "      <th>NettReturn</th>\n",
       "      <th>Price_T-2</th>\n",
       "      <th>Price_T-12</th>\n",
       "      <th>LagReturn-12</th>\n",
       "    </tr>\n",
       "    <tr>\n",
       "      <th>Date</th>\n",
       "      <th></th>\n",
       "      <th></th>\n",
       "      <th></th>\n",
       "      <th></th>\n",
       "      <th></th>\n",
       "      <th></th>\n",
       "    </tr>\n",
       "  </thead>\n",
       "  <tbody>\n",
       "    <tr>\n",
       "      <th>2011-01-31 00:00:00+07:00</th>\n",
       "      <td>4890.0</td>\n",
       "      <td>5455.0</td>\n",
       "      <td>-0.103575</td>\n",
       "      <td>5190.0</td>\n",
       "      <td>3595.0</td>\n",
       "      <td>0.443672</td>\n",
       "    </tr>\n",
       "    <tr>\n",
       "      <th>2011-02-28 00:00:00+07:00</th>\n",
       "      <td>5205.0</td>\n",
       "      <td>4890.0</td>\n",
       "      <td>0.064417</td>\n",
       "      <td>5455.0</td>\n",
       "      <td>3625.0</td>\n",
       "      <td>0.504828</td>\n",
       "    </tr>\n",
       "    <tr>\n",
       "      <th>2011-03-31 00:00:00+07:00</th>\n",
       "      <td>5700.0</td>\n",
       "      <td>5205.0</td>\n",
       "      <td>0.095101</td>\n",
       "      <td>4890.0</td>\n",
       "      <td>4190.0</td>\n",
       "      <td>0.167064</td>\n",
       "    </tr>\n",
       "  </tbody>\n",
       "</table>\n",
       "</div>"
      ],
      "text/plain": [
       "                            Close  Last Month Close  NettReturn  Price_T-2  \\\n",
       "Date                                                                         \n",
       "2011-01-31 00:00:00+07:00  4890.0            5455.0   -0.103575     5190.0   \n",
       "2011-02-28 00:00:00+07:00  5205.0            4890.0    0.064417     5455.0   \n",
       "2011-03-31 00:00:00+07:00  5700.0            5205.0    0.095101     4890.0   \n",
       "\n",
       "                           Price_T-12  LagReturn-12  \n",
       "Date                                                 \n",
       "2011-01-31 00:00:00+07:00      3595.0      0.443672  \n",
       "2011-02-28 00:00:00+07:00      3625.0      0.504828  \n",
       "2011-03-31 00:00:00+07:00      4190.0      0.167064  "
      ]
     },
     "execution_count": 13,
     "metadata": {},
     "output_type": "execute_result"
    }
   ],
   "source": [
    "stock_data_monthly = stock_data_monthly.dropna()\n",
    "stock_data_monthly.head(3)"
   ]
  },
  {
   "cell_type": "markdown",
   "id": "1e876458-dbbc-4468-a576-a8a367cb3c30",
   "metadata": {},
   "source": [
    "### Data Splitting\n",
    "\n",
    "---"
   ]
  },
  {
   "cell_type": "markdown",
   "id": "e78fff11-3ba8-494e-a9ed-7be39ef85fed",
   "metadata": {},
   "source": [
    "Goals :\n",
    "- Split Data Into Input and Output\n",
    "- Split Data Into Training and Testing Example"
   ]
  },
  {
   "cell_type": "code",
   "execution_count": 14,
   "id": "f5c9141a-13f4-4440-a56c-f660865c3796",
   "metadata": {},
   "outputs": [],
   "source": [
    "# split into input and output\n",
    "input_col = ['LagReturn-12']\n",
    "output_col = ['NettReturn']\n",
    "X = stock_data_monthly[input_col]\n",
    "y = stock_data_monthly[output_col]"
   ]
  },
  {
   "cell_type": "code",
   "execution_count": 15,
   "id": "9881e3d3-0296-43d8-8482-df8a0d968ab2",
   "metadata": {},
   "outputs": [
    {
     "data": {
      "text/plain": [
       "(168, 1)"
      ]
     },
     "execution_count": 15,
     "metadata": {},
     "output_type": "execute_result"
    }
   ],
   "source": [
    "y.shape"
   ]
  },
  {
   "cell_type": "code",
   "execution_count": 16,
   "id": "fe9d8533-f149-41a5-aae4-29e21e0e9059",
   "metadata": {},
   "outputs": [
    {
     "name": "stdout",
     "output_type": "stream",
     "text": [
      "Shape of Input  : \n",
      " \n",
      " Number of Rows : 168 \n",
      " Number of Columns : 1\n",
      "\n",
      "\n",
      "Shape of Output : \n",
      " \n",
      " Number of Rows : 168 \n",
      " Number of Columns : 1\n"
     ]
    }
   ],
   "source": [
    "print(f'Shape of Input  : \\n \\n Number of Rows : {X.shape[0]} \\n Number of Columns : {X.shape[1]}')\n",
    "print('\\n')\n",
    "print(f'Shape of Output : \\n \\n Number of Rows : {y.shape[0]} \\n Number of Columns : {y.shape[1]}')"
   ]
  },
  {
   "cell_type": "markdown",
   "id": "a4ae1237-b1c4-4ca3-9927-1055a49e9aa6",
   "metadata": {},
   "source": [
    "- Split data Into Training and Test Data\n",
    "\n"
   ]
  },
  {
   "cell_type": "markdown",
   "id": "40359736-9f73-429e-8aee-56099efc0fb4",
   "metadata": {},
   "source": [
    "<center><img src=\"https://sekolahdata-assets.s3.ap-southeast-1.amazonaws.com/notebook-images/quant-sc-03/split_data.png\"></center>\n",
    "<center><a href=\"https://scikit-learn.org/1.5/_images/grid_search_cross_validation.png\">Source</a></center>\n",
    "\n",
    "\n",
    "- Training Data : 80% of All Data\n",
    "- Test Data : 20% of All Data\n",
    "\n",
    "\n"
   ]
  },
  {
   "cell_type": "code",
   "execution_count": 17,
   "id": "e5d653ac-f678-48ee-98b2-eb0a039277ef",
   "metadata": {},
   "outputs": [
    {
     "name": "stdout",
     "output_type": "stream",
     "text": [
      "134\n"
     ]
    }
   ],
   "source": [
    "train_rows = int(0.8*X.shape[0])\n",
    "print(train_rows)"
   ]
  },
  {
   "cell_type": "code",
   "execution_count": 18,
   "id": "9e87088f-3cec-48bb-aad8-07e661fdf287",
   "metadata": {},
   "outputs": [],
   "source": [
    "# split data intro training and test saple\n",
    "X_train = X.iloc[:train_rows]\n",
    "X_test = X.iloc[train_rows:]\n",
    "\n",
    "y_train = y.iloc[:train_rows]\n",
    "y_test = y.iloc[train_rows:]"
   ]
  },
  {
   "cell_type": "markdown",
   "id": "74634718-696f-4e08-b7ae-df7b9d93fa5f",
   "metadata": {},
   "source": [
    "Question :\n",
    "- Why cannot randomly choose 80% of data ?"
   ]
  },
  {
   "cell_type": "code",
   "execution_count": 19,
   "id": "40aff354-0168-4d9c-91d3-5a95c9faee84",
   "metadata": {},
   "outputs": [
    {
     "name": "stdout",
     "output_type": "stream",
     "text": [
      "Training Data : \n",
      "\n"
     ]
    },
    {
     "data": {
      "text/html": [
       "<div>\n",
       "<style scoped>\n",
       "    .dataframe tbody tr th:only-of-type {\n",
       "        vertical-align: middle;\n",
       "    }\n",
       "\n",
       "    .dataframe tbody tr th {\n",
       "        vertical-align: top;\n",
       "    }\n",
       "\n",
       "    .dataframe thead th {\n",
       "        text-align: right;\n",
       "    }\n",
       "</style>\n",
       "<table border=\"1\" class=\"dataframe\">\n",
       "  <thead>\n",
       "    <tr style=\"text-align: right;\">\n",
       "      <th></th>\n",
       "      <th>LagReturn-12</th>\n",
       "    </tr>\n",
       "    <tr>\n",
       "      <th>Date</th>\n",
       "      <th></th>\n",
       "    </tr>\n",
       "  </thead>\n",
       "  <tbody>\n",
       "    <tr>\n",
       "      <th>2011-01-31 00:00:00+07:00</th>\n",
       "      <td>0.443672</td>\n",
       "    </tr>\n",
       "    <tr>\n",
       "      <th>2011-02-28 00:00:00+07:00</th>\n",
       "      <td>0.504828</td>\n",
       "    </tr>\n",
       "    <tr>\n",
       "      <th>2011-03-31 00:00:00+07:00</th>\n",
       "      <td>0.167064</td>\n",
       "    </tr>\n",
       "  </tbody>\n",
       "</table>\n",
       "</div>"
      ],
      "text/plain": [
       "                           LagReturn-12\n",
       "Date                                   \n",
       "2011-01-31 00:00:00+07:00      0.443672\n",
       "2011-02-28 00:00:00+07:00      0.504828\n",
       "2011-03-31 00:00:00+07:00      0.167064"
      ]
     },
     "metadata": {},
     "output_type": "display_data"
    },
    {
     "data": {
      "text/html": [
       "<div>\n",
       "<style scoped>\n",
       "    .dataframe tbody tr th:only-of-type {\n",
       "        vertical-align: middle;\n",
       "    }\n",
       "\n",
       "    .dataframe tbody tr th {\n",
       "        vertical-align: top;\n",
       "    }\n",
       "\n",
       "    .dataframe thead th {\n",
       "        text-align: right;\n",
       "    }\n",
       "</style>\n",
       "<table border=\"1\" class=\"dataframe\">\n",
       "  <thead>\n",
       "    <tr style=\"text-align: right;\">\n",
       "      <th></th>\n",
       "      <th>NettReturn</th>\n",
       "    </tr>\n",
       "    <tr>\n",
       "      <th>Date</th>\n",
       "      <th></th>\n",
       "    </tr>\n",
       "  </thead>\n",
       "  <tbody>\n",
       "    <tr>\n",
       "      <th>2011-01-31 00:00:00+07:00</th>\n",
       "      <td>-0.103575</td>\n",
       "    </tr>\n",
       "    <tr>\n",
       "      <th>2011-02-28 00:00:00+07:00</th>\n",
       "      <td>0.064417</td>\n",
       "    </tr>\n",
       "    <tr>\n",
       "      <th>2011-03-31 00:00:00+07:00</th>\n",
       "      <td>0.095101</td>\n",
       "    </tr>\n",
       "  </tbody>\n",
       "</table>\n",
       "</div>"
      ],
      "text/plain": [
       "                           NettReturn\n",
       "Date                                 \n",
       "2011-01-31 00:00:00+07:00   -0.103575\n",
       "2011-02-28 00:00:00+07:00    0.064417\n",
       "2011-03-31 00:00:00+07:00    0.095101"
      ]
     },
     "metadata": {},
     "output_type": "display_data"
    },
    {
     "data": {
      "text/html": [
       "<div>\n",
       "<style scoped>\n",
       "    .dataframe tbody tr th:only-of-type {\n",
       "        vertical-align: middle;\n",
       "    }\n",
       "\n",
       "    .dataframe tbody tr th {\n",
       "        vertical-align: top;\n",
       "    }\n",
       "\n",
       "    .dataframe thead th {\n",
       "        text-align: right;\n",
       "    }\n",
       "</style>\n",
       "<table border=\"1\" class=\"dataframe\">\n",
       "  <thead>\n",
       "    <tr style=\"text-align: right;\">\n",
       "      <th></th>\n",
       "      <th>NettReturn</th>\n",
       "    </tr>\n",
       "    <tr>\n",
       "      <th>Date</th>\n",
       "      <th></th>\n",
       "    </tr>\n",
       "  </thead>\n",
       "  <tbody>\n",
       "    <tr>\n",
       "      <th>2021-12-31 00:00:00+07:00</th>\n",
       "      <td>-0.012987</td>\n",
       "    </tr>\n",
       "    <tr>\n",
       "      <th>2022-01-31 00:00:00+07:00</th>\n",
       "      <td>-0.039474</td>\n",
       "    </tr>\n",
       "    <tr>\n",
       "      <th>2022-02-28 00:00:00+07:00</th>\n",
       "      <td>0.059361</td>\n",
       "    </tr>\n",
       "  </tbody>\n",
       "</table>\n",
       "</div>"
      ],
      "text/plain": [
       "                           NettReturn\n",
       "Date                                 \n",
       "2021-12-31 00:00:00+07:00   -0.012987\n",
       "2022-01-31 00:00:00+07:00   -0.039474\n",
       "2022-02-28 00:00:00+07:00    0.059361"
      ]
     },
     "metadata": {},
     "output_type": "display_data"
    },
    {
     "name": "stdout",
     "output_type": "stream",
     "text": [
      "\n",
      "\n",
      "Test Data : \n",
      "\n"
     ]
    },
    {
     "data": {
      "text/html": [
       "<div>\n",
       "<style scoped>\n",
       "    .dataframe tbody tr th:only-of-type {\n",
       "        vertical-align: middle;\n",
       "    }\n",
       "\n",
       "    .dataframe tbody tr th {\n",
       "        vertical-align: top;\n",
       "    }\n",
       "\n",
       "    .dataframe thead th {\n",
       "        text-align: right;\n",
       "    }\n",
       "</style>\n",
       "<table border=\"1\" class=\"dataframe\">\n",
       "  <thead>\n",
       "    <tr style=\"text-align: right;\">\n",
       "      <th></th>\n",
       "      <th>LagReturn-12</th>\n",
       "    </tr>\n",
       "    <tr>\n",
       "      <th>Date</th>\n",
       "      <th></th>\n",
       "    </tr>\n",
       "  </thead>\n",
       "  <tbody>\n",
       "    <tr>\n",
       "      <th>2022-03-31 00:00:00+07:00</th>\n",
       "      <td>0.037915</td>\n",
       "    </tr>\n",
       "    <tr>\n",
       "      <th>2022-04-30 00:00:00+07:00</th>\n",
       "      <td>0.054545</td>\n",
       "    </tr>\n",
       "    <tr>\n",
       "      <th>2022-05-31 00:00:00+07:00</th>\n",
       "      <td>0.252381</td>\n",
       "    </tr>\n",
       "  </tbody>\n",
       "</table>\n",
       "</div>"
      ],
      "text/plain": [
       "                           LagReturn-12\n",
       "Date                                   \n",
       "2022-03-31 00:00:00+07:00      0.037915\n",
       "2022-04-30 00:00:00+07:00      0.054545\n",
       "2022-05-31 00:00:00+07:00      0.252381"
      ]
     },
     "metadata": {},
     "output_type": "display_data"
    },
    {
     "data": {
      "text/html": [
       "<div>\n",
       "<style scoped>\n",
       "    .dataframe tbody tr th:only-of-type {\n",
       "        vertical-align: middle;\n",
       "    }\n",
       "\n",
       "    .dataframe tbody tr th {\n",
       "        vertical-align: top;\n",
       "    }\n",
       "\n",
       "    .dataframe thead th {\n",
       "        text-align: right;\n",
       "    }\n",
       "</style>\n",
       "<table border=\"1\" class=\"dataframe\">\n",
       "  <thead>\n",
       "    <tr style=\"text-align: right;\">\n",
       "      <th></th>\n",
       "      <th>NettReturn</th>\n",
       "    </tr>\n",
       "    <tr>\n",
       "      <th>Date</th>\n",
       "      <th></th>\n",
       "    </tr>\n",
       "  </thead>\n",
       "  <tbody>\n",
       "    <tr>\n",
       "      <th>2022-03-31 00:00:00+07:00</th>\n",
       "      <td>0.133621</td>\n",
       "    </tr>\n",
       "    <tr>\n",
       "      <th>2022-04-30 00:00:00+07:00</th>\n",
       "      <td>0.152091</td>\n",
       "    </tr>\n",
       "    <tr>\n",
       "      <th>2022-05-31 00:00:00+07:00</th>\n",
       "      <td>-0.029703</td>\n",
       "    </tr>\n",
       "  </tbody>\n",
       "</table>\n",
       "</div>"
      ],
      "text/plain": [
       "                           NettReturn\n",
       "Date                                 \n",
       "2022-03-31 00:00:00+07:00    0.133621\n",
       "2022-04-30 00:00:00+07:00    0.152091\n",
       "2022-05-31 00:00:00+07:00   -0.029703"
      ]
     },
     "metadata": {},
     "output_type": "display_data"
    },
    {
     "data": {
      "text/html": [
       "<div>\n",
       "<style scoped>\n",
       "    .dataframe tbody tr th:only-of-type {\n",
       "        vertical-align: middle;\n",
       "    }\n",
       "\n",
       "    .dataframe tbody tr th {\n",
       "        vertical-align: top;\n",
       "    }\n",
       "\n",
       "    .dataframe thead th {\n",
       "        text-align: right;\n",
       "    }\n",
       "</style>\n",
       "<table border=\"1\" class=\"dataframe\">\n",
       "  <thead>\n",
       "    <tr style=\"text-align: right;\">\n",
       "      <th></th>\n",
       "      <th>NettReturn</th>\n",
       "    </tr>\n",
       "    <tr>\n",
       "      <th>Date</th>\n",
       "      <th></th>\n",
       "    </tr>\n",
       "  </thead>\n",
       "  <tbody>\n",
       "    <tr>\n",
       "      <th>2024-10-31 00:00:00+07:00</th>\n",
       "      <td>0.009901</td>\n",
       "    </tr>\n",
       "    <tr>\n",
       "      <th>2024-11-30 00:00:00+07:00</th>\n",
       "      <td>0.000000</td>\n",
       "    </tr>\n",
       "    <tr>\n",
       "      <th>2024-12-31 00:00:00+07:00</th>\n",
       "      <td>-0.039216</td>\n",
       "    </tr>\n",
       "  </tbody>\n",
       "</table>\n",
       "</div>"
      ],
      "text/plain": [
       "                           NettReturn\n",
       "Date                                 \n",
       "2024-10-31 00:00:00+07:00    0.009901\n",
       "2024-11-30 00:00:00+07:00    0.000000\n",
       "2024-12-31 00:00:00+07:00   -0.039216"
      ]
     },
     "metadata": {},
     "output_type": "display_data"
    }
   ],
   "source": [
    "from IPython.display import display\n",
    "print('Training Data : \\n')\n",
    "display(X_train.head(3))\n",
    "display(y_train.head(3))\n",
    "display(y_train.tail(3))\n",
    "print('\\n')\n",
    "print('Test Data : \\n')\n",
    "display(X_test.head(3))\n",
    "display(y_test.head(3))\n",
    "display(y_test.tail(3))"
   ]
  },
  {
   "cell_type": "code",
   "execution_count": 20,
   "id": "fa39dce2-6a73-44c9-8bca-e454a6d41f9a",
   "metadata": {},
   "outputs": [
    {
     "name": "stdout",
     "output_type": "stream",
     "text": [
      " X_train  : \n",
      " \n",
      " Number of Rows : 134 \n",
      " Number of Columns : 1\n",
      "\n",
      "\n",
      "y_train : \n",
      " \n",
      " Number of Rows : 134 \n",
      " Number of Columns : 1\n"
     ]
    }
   ],
   "source": [
    "print(f' X_train  : \\n \\n Number of Rows : {X_train.shape[0]} \\n Number of Columns : {X.shape[1]}')\n",
    "print('\\n')\n",
    "print(f'y_train : \\n \\n Number of Rows : {y_train.shape[0]} \\n Number of Columns : {y.shape[1]}')"
   ]
  },
  {
   "cell_type": "code",
   "execution_count": 21,
   "id": "945a484a-baa2-42ce-bcaa-092557f8e224",
   "metadata": {},
   "outputs": [
    {
     "name": "stdout",
     "output_type": "stream",
     "text": [
      " X_test  : \n",
      " \n",
      " Number of Rows : 34 \n",
      " Number of Columns : 1\n",
      "\n",
      "\n",
      "y_test : \n",
      " \n",
      " Number of Rows : 34 \n",
      " Number of Columns : 1\n"
     ]
    }
   ],
   "source": [
    "print(f' X_test  : \\n \\n Number of Rows : {X_test.shape[0]} \\n Number of Columns : {X.shape[1]}')\n",
    "print('\\n')\n",
    "print(f'y_test : \\n \\n Number of Rows : {y_test.shape[0]} \\n Number of Columns : {y.shape[1]}')"
   ]
  },
  {
   "cell_type": "markdown",
   "id": "9d1ed0ee-b6a9-4c95-b2e3-cbf41152b8fd",
   "metadata": {},
   "source": [
    "### Train Machine Learning Model\n",
    "\n",
    "---"
   ]
  },
  {
   "cell_type": "markdown",
   "id": "aa0ec4ef-3216-4aab-9ca4-1ab33ae0470f",
   "metadata": {},
   "source": [
    "- Retrain Machine Learning Model with Best Parameter"
   ]
  },
  {
   "cell_type": "code",
   "execution_count": 23,
   "id": "6b0e1b64-f3e1-4de2-bc8d-f63100c076a4",
   "metadata": {},
   "outputs": [
    {
     "data": {
      "text/html": [
       "<style>#sk-container-id-1 {\n",
       "  /* Definition of color scheme common for light and dark mode */\n",
       "  --sklearn-color-text: #000;\n",
       "  --sklearn-color-text-muted: #666;\n",
       "  --sklearn-color-line: gray;\n",
       "  /* Definition of color scheme for unfitted estimators */\n",
       "  --sklearn-color-unfitted-level-0: #fff5e6;\n",
       "  --sklearn-color-unfitted-level-1: #f6e4d2;\n",
       "  --sklearn-color-unfitted-level-2: #ffe0b3;\n",
       "  --sklearn-color-unfitted-level-3: chocolate;\n",
       "  /* Definition of color scheme for fitted estimators */\n",
       "  --sklearn-color-fitted-level-0: #f0f8ff;\n",
       "  --sklearn-color-fitted-level-1: #d4ebff;\n",
       "  --sklearn-color-fitted-level-2: #b3dbfd;\n",
       "  --sklearn-color-fitted-level-3: cornflowerblue;\n",
       "\n",
       "  /* Specific color for light theme */\n",
       "  --sklearn-color-text-on-default-background: var(--sg-text-color, var(--theme-code-foreground, var(--jp-content-font-color1, black)));\n",
       "  --sklearn-color-background: var(--sg-background-color, var(--theme-background, var(--jp-layout-color0, white)));\n",
       "  --sklearn-color-border-box: var(--sg-text-color, var(--theme-code-foreground, var(--jp-content-font-color1, black)));\n",
       "  --sklearn-color-icon: #696969;\n",
       "\n",
       "  @media (prefers-color-scheme: dark) {\n",
       "    /* Redefinition of color scheme for dark theme */\n",
       "    --sklearn-color-text-on-default-background: var(--sg-text-color, var(--theme-code-foreground, var(--jp-content-font-color1, white)));\n",
       "    --sklearn-color-background: var(--sg-background-color, var(--theme-background, var(--jp-layout-color0, #111)));\n",
       "    --sklearn-color-border-box: var(--sg-text-color, var(--theme-code-foreground, var(--jp-content-font-color1, white)));\n",
       "    --sklearn-color-icon: #878787;\n",
       "  }\n",
       "}\n",
       "\n",
       "#sk-container-id-1 {\n",
       "  color: var(--sklearn-color-text);\n",
       "}\n",
       "\n",
       "#sk-container-id-1 pre {\n",
       "  padding: 0;\n",
       "}\n",
       "\n",
       "#sk-container-id-1 input.sk-hidden--visually {\n",
       "  border: 0;\n",
       "  clip: rect(1px 1px 1px 1px);\n",
       "  clip: rect(1px, 1px, 1px, 1px);\n",
       "  height: 1px;\n",
       "  margin: -1px;\n",
       "  overflow: hidden;\n",
       "  padding: 0;\n",
       "  position: absolute;\n",
       "  width: 1px;\n",
       "}\n",
       "\n",
       "#sk-container-id-1 div.sk-dashed-wrapped {\n",
       "  border: 1px dashed var(--sklearn-color-line);\n",
       "  margin: 0 0.4em 0.5em 0.4em;\n",
       "  box-sizing: border-box;\n",
       "  padding-bottom: 0.4em;\n",
       "  background-color: var(--sklearn-color-background);\n",
       "}\n",
       "\n",
       "#sk-container-id-1 div.sk-container {\n",
       "  /* jupyter's `normalize.less` sets `[hidden] { display: none; }`\n",
       "     but bootstrap.min.css set `[hidden] { display: none !important; }`\n",
       "     so we also need the `!important` here to be able to override the\n",
       "     default hidden behavior on the sphinx rendered scikit-learn.org.\n",
       "     See: https://github.com/scikit-learn/scikit-learn/issues/21755 */\n",
       "  display: inline-block !important;\n",
       "  position: relative;\n",
       "}\n",
       "\n",
       "#sk-container-id-1 div.sk-text-repr-fallback {\n",
       "  display: none;\n",
       "}\n",
       "\n",
       "div.sk-parallel-item,\n",
       "div.sk-serial,\n",
       "div.sk-item {\n",
       "  /* draw centered vertical line to link estimators */\n",
       "  background-image: linear-gradient(var(--sklearn-color-text-on-default-background), var(--sklearn-color-text-on-default-background));\n",
       "  background-size: 2px 100%;\n",
       "  background-repeat: no-repeat;\n",
       "  background-position: center center;\n",
       "}\n",
       "\n",
       "/* Parallel-specific style estimator block */\n",
       "\n",
       "#sk-container-id-1 div.sk-parallel-item::after {\n",
       "  content: \"\";\n",
       "  width: 100%;\n",
       "  border-bottom: 2px solid var(--sklearn-color-text-on-default-background);\n",
       "  flex-grow: 1;\n",
       "}\n",
       "\n",
       "#sk-container-id-1 div.sk-parallel {\n",
       "  display: flex;\n",
       "  align-items: stretch;\n",
       "  justify-content: center;\n",
       "  background-color: var(--sklearn-color-background);\n",
       "  position: relative;\n",
       "}\n",
       "\n",
       "#sk-container-id-1 div.sk-parallel-item {\n",
       "  display: flex;\n",
       "  flex-direction: column;\n",
       "}\n",
       "\n",
       "#sk-container-id-1 div.sk-parallel-item:first-child::after {\n",
       "  align-self: flex-end;\n",
       "  width: 50%;\n",
       "}\n",
       "\n",
       "#sk-container-id-1 div.sk-parallel-item:last-child::after {\n",
       "  align-self: flex-start;\n",
       "  width: 50%;\n",
       "}\n",
       "\n",
       "#sk-container-id-1 div.sk-parallel-item:only-child::after {\n",
       "  width: 0;\n",
       "}\n",
       "\n",
       "/* Serial-specific style estimator block */\n",
       "\n",
       "#sk-container-id-1 div.sk-serial {\n",
       "  display: flex;\n",
       "  flex-direction: column;\n",
       "  align-items: center;\n",
       "  background-color: var(--sklearn-color-background);\n",
       "  padding-right: 1em;\n",
       "  padding-left: 1em;\n",
       "}\n",
       "\n",
       "\n",
       "/* Toggleable style: style used for estimator/Pipeline/ColumnTransformer box that is\n",
       "clickable and can be expanded/collapsed.\n",
       "- Pipeline and ColumnTransformer use this feature and define the default style\n",
       "- Estimators will overwrite some part of the style using the `sk-estimator` class\n",
       "*/\n",
       "\n",
       "/* Pipeline and ColumnTransformer style (default) */\n",
       "\n",
       "#sk-container-id-1 div.sk-toggleable {\n",
       "  /* Default theme specific background. It is overwritten whether we have a\n",
       "  specific estimator or a Pipeline/ColumnTransformer */\n",
       "  background-color: var(--sklearn-color-background);\n",
       "}\n",
       "\n",
       "/* Toggleable label */\n",
       "#sk-container-id-1 label.sk-toggleable__label {\n",
       "  cursor: pointer;\n",
       "  display: flex;\n",
       "  width: 100%;\n",
       "  margin-bottom: 0;\n",
       "  padding: 0.5em;\n",
       "  box-sizing: border-box;\n",
       "  text-align: center;\n",
       "  align-items: start;\n",
       "  justify-content: space-between;\n",
       "  gap: 0.5em;\n",
       "}\n",
       "\n",
       "#sk-container-id-1 label.sk-toggleable__label .caption {\n",
       "  font-size: 0.6rem;\n",
       "  font-weight: lighter;\n",
       "  color: var(--sklearn-color-text-muted);\n",
       "}\n",
       "\n",
       "#sk-container-id-1 label.sk-toggleable__label-arrow:before {\n",
       "  /* Arrow on the left of the label */\n",
       "  content: \"▸\";\n",
       "  float: left;\n",
       "  margin-right: 0.25em;\n",
       "  color: var(--sklearn-color-icon);\n",
       "}\n",
       "\n",
       "#sk-container-id-1 label.sk-toggleable__label-arrow:hover:before {\n",
       "  color: var(--sklearn-color-text);\n",
       "}\n",
       "\n",
       "/* Toggleable content - dropdown */\n",
       "\n",
       "#sk-container-id-1 div.sk-toggleable__content {\n",
       "  max-height: 0;\n",
       "  max-width: 0;\n",
       "  overflow: hidden;\n",
       "  text-align: left;\n",
       "  /* unfitted */\n",
       "  background-color: var(--sklearn-color-unfitted-level-0);\n",
       "}\n",
       "\n",
       "#sk-container-id-1 div.sk-toggleable__content.fitted {\n",
       "  /* fitted */\n",
       "  background-color: var(--sklearn-color-fitted-level-0);\n",
       "}\n",
       "\n",
       "#sk-container-id-1 div.sk-toggleable__content pre {\n",
       "  margin: 0.2em;\n",
       "  border-radius: 0.25em;\n",
       "  color: var(--sklearn-color-text);\n",
       "  /* unfitted */\n",
       "  background-color: var(--sklearn-color-unfitted-level-0);\n",
       "}\n",
       "\n",
       "#sk-container-id-1 div.sk-toggleable__content.fitted pre {\n",
       "  /* unfitted */\n",
       "  background-color: var(--sklearn-color-fitted-level-0);\n",
       "}\n",
       "\n",
       "#sk-container-id-1 input.sk-toggleable__control:checked~div.sk-toggleable__content {\n",
       "  /* Expand drop-down */\n",
       "  max-height: 200px;\n",
       "  max-width: 100%;\n",
       "  overflow: auto;\n",
       "}\n",
       "\n",
       "#sk-container-id-1 input.sk-toggleable__control:checked~label.sk-toggleable__label-arrow:before {\n",
       "  content: \"▾\";\n",
       "}\n",
       "\n",
       "/* Pipeline/ColumnTransformer-specific style */\n",
       "\n",
       "#sk-container-id-1 div.sk-label input.sk-toggleable__control:checked~label.sk-toggleable__label {\n",
       "  color: var(--sklearn-color-text);\n",
       "  background-color: var(--sklearn-color-unfitted-level-2);\n",
       "}\n",
       "\n",
       "#sk-container-id-1 div.sk-label.fitted input.sk-toggleable__control:checked~label.sk-toggleable__label {\n",
       "  background-color: var(--sklearn-color-fitted-level-2);\n",
       "}\n",
       "\n",
       "/* Estimator-specific style */\n",
       "\n",
       "/* Colorize estimator box */\n",
       "#sk-container-id-1 div.sk-estimator input.sk-toggleable__control:checked~label.sk-toggleable__label {\n",
       "  /* unfitted */\n",
       "  background-color: var(--sklearn-color-unfitted-level-2);\n",
       "}\n",
       "\n",
       "#sk-container-id-1 div.sk-estimator.fitted input.sk-toggleable__control:checked~label.sk-toggleable__label {\n",
       "  /* fitted */\n",
       "  background-color: var(--sklearn-color-fitted-level-2);\n",
       "}\n",
       "\n",
       "#sk-container-id-1 div.sk-label label.sk-toggleable__label,\n",
       "#sk-container-id-1 div.sk-label label {\n",
       "  /* The background is the default theme color */\n",
       "  color: var(--sklearn-color-text-on-default-background);\n",
       "}\n",
       "\n",
       "/* On hover, darken the color of the background */\n",
       "#sk-container-id-1 div.sk-label:hover label.sk-toggleable__label {\n",
       "  color: var(--sklearn-color-text);\n",
       "  background-color: var(--sklearn-color-unfitted-level-2);\n",
       "}\n",
       "\n",
       "/* Label box, darken color on hover, fitted */\n",
       "#sk-container-id-1 div.sk-label.fitted:hover label.sk-toggleable__label.fitted {\n",
       "  color: var(--sklearn-color-text);\n",
       "  background-color: var(--sklearn-color-fitted-level-2);\n",
       "}\n",
       "\n",
       "/* Estimator label */\n",
       "\n",
       "#sk-container-id-1 div.sk-label label {\n",
       "  font-family: monospace;\n",
       "  font-weight: bold;\n",
       "  display: inline-block;\n",
       "  line-height: 1.2em;\n",
       "}\n",
       "\n",
       "#sk-container-id-1 div.sk-label-container {\n",
       "  text-align: center;\n",
       "}\n",
       "\n",
       "/* Estimator-specific */\n",
       "#sk-container-id-1 div.sk-estimator {\n",
       "  font-family: monospace;\n",
       "  border: 1px dotted var(--sklearn-color-border-box);\n",
       "  border-radius: 0.25em;\n",
       "  box-sizing: border-box;\n",
       "  margin-bottom: 0.5em;\n",
       "  /* unfitted */\n",
       "  background-color: var(--sklearn-color-unfitted-level-0);\n",
       "}\n",
       "\n",
       "#sk-container-id-1 div.sk-estimator.fitted {\n",
       "  /* fitted */\n",
       "  background-color: var(--sklearn-color-fitted-level-0);\n",
       "}\n",
       "\n",
       "/* on hover */\n",
       "#sk-container-id-1 div.sk-estimator:hover {\n",
       "  /* unfitted */\n",
       "  background-color: var(--sklearn-color-unfitted-level-2);\n",
       "}\n",
       "\n",
       "#sk-container-id-1 div.sk-estimator.fitted:hover {\n",
       "  /* fitted */\n",
       "  background-color: var(--sklearn-color-fitted-level-2);\n",
       "}\n",
       "\n",
       "/* Specification for estimator info (e.g. \"i\" and \"?\") */\n",
       "\n",
       "/* Common style for \"i\" and \"?\" */\n",
       "\n",
       ".sk-estimator-doc-link,\n",
       "a:link.sk-estimator-doc-link,\n",
       "a:visited.sk-estimator-doc-link {\n",
       "  float: right;\n",
       "  font-size: smaller;\n",
       "  line-height: 1em;\n",
       "  font-family: monospace;\n",
       "  background-color: var(--sklearn-color-background);\n",
       "  border-radius: 1em;\n",
       "  height: 1em;\n",
       "  width: 1em;\n",
       "  text-decoration: none !important;\n",
       "  margin-left: 0.5em;\n",
       "  text-align: center;\n",
       "  /* unfitted */\n",
       "  border: var(--sklearn-color-unfitted-level-1) 1pt solid;\n",
       "  color: var(--sklearn-color-unfitted-level-1);\n",
       "}\n",
       "\n",
       ".sk-estimator-doc-link.fitted,\n",
       "a:link.sk-estimator-doc-link.fitted,\n",
       "a:visited.sk-estimator-doc-link.fitted {\n",
       "  /* fitted */\n",
       "  border: var(--sklearn-color-fitted-level-1) 1pt solid;\n",
       "  color: var(--sklearn-color-fitted-level-1);\n",
       "}\n",
       "\n",
       "/* On hover */\n",
       "div.sk-estimator:hover .sk-estimator-doc-link:hover,\n",
       ".sk-estimator-doc-link:hover,\n",
       "div.sk-label-container:hover .sk-estimator-doc-link:hover,\n",
       ".sk-estimator-doc-link:hover {\n",
       "  /* unfitted */\n",
       "  background-color: var(--sklearn-color-unfitted-level-3);\n",
       "  color: var(--sklearn-color-background);\n",
       "  text-decoration: none;\n",
       "}\n",
       "\n",
       "div.sk-estimator.fitted:hover .sk-estimator-doc-link.fitted:hover,\n",
       ".sk-estimator-doc-link.fitted:hover,\n",
       "div.sk-label-container:hover .sk-estimator-doc-link.fitted:hover,\n",
       ".sk-estimator-doc-link.fitted:hover {\n",
       "  /* fitted */\n",
       "  background-color: var(--sklearn-color-fitted-level-3);\n",
       "  color: var(--sklearn-color-background);\n",
       "  text-decoration: none;\n",
       "}\n",
       "\n",
       "/* Span, style for the box shown on hovering the info icon */\n",
       ".sk-estimator-doc-link span {\n",
       "  display: none;\n",
       "  z-index: 9999;\n",
       "  position: relative;\n",
       "  font-weight: normal;\n",
       "  right: .2ex;\n",
       "  padding: .5ex;\n",
       "  margin: .5ex;\n",
       "  width: min-content;\n",
       "  min-width: 20ex;\n",
       "  max-width: 50ex;\n",
       "  color: var(--sklearn-color-text);\n",
       "  box-shadow: 2pt 2pt 4pt #999;\n",
       "  /* unfitted */\n",
       "  background: var(--sklearn-color-unfitted-level-0);\n",
       "  border: .5pt solid var(--sklearn-color-unfitted-level-3);\n",
       "}\n",
       "\n",
       ".sk-estimator-doc-link.fitted span {\n",
       "  /* fitted */\n",
       "  background: var(--sklearn-color-fitted-level-0);\n",
       "  border: var(--sklearn-color-fitted-level-3);\n",
       "}\n",
       "\n",
       ".sk-estimator-doc-link:hover span {\n",
       "  display: block;\n",
       "}\n",
       "\n",
       "/* \"?\"-specific style due to the `<a>` HTML tag */\n",
       "\n",
       "#sk-container-id-1 a.estimator_doc_link {\n",
       "  float: right;\n",
       "  font-size: 1rem;\n",
       "  line-height: 1em;\n",
       "  font-family: monospace;\n",
       "  background-color: var(--sklearn-color-background);\n",
       "  border-radius: 1rem;\n",
       "  height: 1rem;\n",
       "  width: 1rem;\n",
       "  text-decoration: none;\n",
       "  /* unfitted */\n",
       "  color: var(--sklearn-color-unfitted-level-1);\n",
       "  border: var(--sklearn-color-unfitted-level-1) 1pt solid;\n",
       "}\n",
       "\n",
       "#sk-container-id-1 a.estimator_doc_link.fitted {\n",
       "  /* fitted */\n",
       "  border: var(--sklearn-color-fitted-level-1) 1pt solid;\n",
       "  color: var(--sklearn-color-fitted-level-1);\n",
       "}\n",
       "\n",
       "/* On hover */\n",
       "#sk-container-id-1 a.estimator_doc_link:hover {\n",
       "  /* unfitted */\n",
       "  background-color: var(--sklearn-color-unfitted-level-3);\n",
       "  color: var(--sklearn-color-background);\n",
       "  text-decoration: none;\n",
       "}\n",
       "\n",
       "#sk-container-id-1 a.estimator_doc_link.fitted:hover {\n",
       "  /* fitted */\n",
       "  background-color: var(--sklearn-color-fitted-level-3);\n",
       "}\n",
       "</style><div id=\"sk-container-id-1\" class=\"sk-top-container\"><div class=\"sk-text-repr-fallback\"><pre>RandomForestRegressor()</pre><b>In a Jupyter environment, please rerun this cell to show the HTML representation or trust the notebook. <br />On GitHub, the HTML representation is unable to render, please try loading this page with nbviewer.org.</b></div><div class=\"sk-container\" hidden><div class=\"sk-item\"><div class=\"sk-estimator fitted sk-toggleable\"><input class=\"sk-toggleable__control sk-hidden--visually\" id=\"sk-estimator-id-1\" type=\"checkbox\" checked><label for=\"sk-estimator-id-1\" class=\"sk-toggleable__label fitted sk-toggleable__label-arrow\"><div><div>RandomForestRegressor</div></div><div><a class=\"sk-estimator-doc-link fitted\" rel=\"noreferrer\" target=\"_blank\" href=\"https://scikit-learn.org/1.6/modules/generated/sklearn.ensemble.RandomForestRegressor.html\">?<span>Documentation for RandomForestRegressor</span></a><span class=\"sk-estimator-doc-link fitted\">i<span>Fitted</span></span></div></label><div class=\"sk-toggleable__content fitted\"><pre>RandomForestRegressor()</pre></div> </div></div></div></div>"
      ],
      "text/plain": [
       "RandomForestRegressor()"
      ]
     },
     "execution_count": 23,
     "metadata": {},
     "output_type": "execute_result"
    }
   ],
   "source": [
    "from sklearn.ensemble import RandomForestRegressor\n",
    "random_forest_model = RandomForestRegressor()\n",
    "random_forest_model.fit(X_train,y_train)"
   ]
  },
  {
   "cell_type": "markdown",
   "id": "664a227f-826b-4fd2-8a72-2ad16f2b12d2",
   "metadata": {},
   "source": [
    "### Evaluate Model\n",
    "\n",
    "---"
   ]
  },
  {
   "cell_type": "markdown",
   "id": "7d5faa76-dc3e-4c5a-818a-c8f9c3c9dd7e",
   "metadata": {},
   "source": [
    "Goal :    \n",
    "\n",
    "- Check the performance of model of unseen data / test data"
   ]
  },
  {
   "cell_type": "markdown",
   "id": "8fb7073d-c6ac-4f7f-9599-9f5e9ca7df5b",
   "metadata": {},
   "source": [
    "- Calculate the Error\n",
    "\n",
    "$$\\mathbf{RMSE} =\n",
    "\\sqrt{\\cfrac{1}{N}\\sum_{i}^{N}(\\mathbf{y}-\\mathbf{\\hat{y}})^{2}}\n",
    "$$\n",
    "\n",
    "- $\\mathbf{y}$ : actual values\n",
    "- $\\mathbf{\\hat{y}}$ : predicted values"
   ]
  },
  {
   "cell_type": "code",
   "execution_count": 25,
   "id": "131ca405-12d4-4126-9a3f-c89bf2bb9f1c",
   "metadata": {},
   "outputs": [
    {
     "ename": "TypeError",
     "evalue": "got an unexpected keyword argument 'squared'",
     "output_type": "error",
     "traceback": [
      "\u001b[0;31m---------------------------------------------------------------------------\u001b[0m",
      "\u001b[0;31mTypeError\u001b[0m                                 Traceback (most recent call last)",
      "Cell \u001b[0;32mIn[25], line 7\u001b[0m\n\u001b[1;32m      4\u001b[0m y_pred_train \u001b[38;5;241m=\u001b[39m random_forest_model\u001b[38;5;241m.\u001b[39mpredict(X_train)\n\u001b[1;32m      6\u001b[0m \u001b[38;5;66;03m# calculate RMSE for training data\u001b[39;00m\n\u001b[0;32m----> 7\u001b[0m error_train \u001b[38;5;241m=\u001b[39m np\u001b[38;5;241m.\u001b[39msqrt(\u001b[43mmean_squared_error\u001b[49m\u001b[43m(\u001b[49m\n\u001b[1;32m      8\u001b[0m \u001b[43m    \u001b[49m\u001b[43my_true\u001b[49m\u001b[38;5;241;43m=\u001b[39;49m\u001b[43my_train\u001b[49m\u001b[43m,\u001b[49m\n\u001b[1;32m      9\u001b[0m \u001b[43m    \u001b[49m\u001b[43my_pred\u001b[49m\u001b[38;5;241;43m=\u001b[39;49m\u001b[43my_pred_train\u001b[49m\u001b[43m,\u001b[49m\n\u001b[1;32m     10\u001b[0m \u001b[43m    \u001b[49m\u001b[43msquared\u001b[49m\u001b[38;5;241;43m=\u001b[39;49m\u001b[38;5;28;43;01mFalse\u001b[39;49;00m\n\u001b[1;32m     11\u001b[0m \u001b[43m)\u001b[49m)\n\u001b[1;32m     13\u001b[0m \u001b[38;5;66;03m# predict on test data\u001b[39;00m\n\u001b[1;32m     14\u001b[0m y_pred_test \u001b[38;5;241m=\u001b[39m random_forest_model\u001b[38;5;241m.\u001b[39mpredict(X_test)\n",
      "File \u001b[0;32m~/.pyenv/versions/miniconda3-latest/envs/main-ds/lib/python3.9/site-packages/sklearn/utils/_param_validation.py:194\u001b[0m, in \u001b[0;36mvalidate_params.<locals>.decorator.<locals>.wrapper\u001b[0;34m(*args, **kwargs)\u001b[0m\n\u001b[1;32m    191\u001b[0m func_sig \u001b[38;5;241m=\u001b[39m signature(func)\n\u001b[1;32m    193\u001b[0m \u001b[38;5;66;03m# Map *args/**kwargs to the function signature\u001b[39;00m\n\u001b[0;32m--> 194\u001b[0m params \u001b[38;5;241m=\u001b[39m \u001b[43mfunc_sig\u001b[49m\u001b[38;5;241;43m.\u001b[39;49m\u001b[43mbind\u001b[49m\u001b[43m(\u001b[49m\u001b[38;5;241;43m*\u001b[39;49m\u001b[43margs\u001b[49m\u001b[43m,\u001b[49m\u001b[43m \u001b[49m\u001b[38;5;241;43m*\u001b[39;49m\u001b[38;5;241;43m*\u001b[39;49m\u001b[43mkwargs\u001b[49m\u001b[43m)\u001b[49m\n\u001b[1;32m    195\u001b[0m params\u001b[38;5;241m.\u001b[39mapply_defaults()\n\u001b[1;32m    197\u001b[0m \u001b[38;5;66;03m# ignore self/cls and positional/keyword markers\u001b[39;00m\n",
      "File \u001b[0;32m~/.pyenv/versions/miniconda3-latest/envs/main-ds/lib/python3.9/inspect.py:3045\u001b[0m, in \u001b[0;36mSignature.bind\u001b[0;34m(self, *args, **kwargs)\u001b[0m\n\u001b[1;32m   3040\u001b[0m \u001b[38;5;28;01mdef\u001b[39;00m\u001b[38;5;250m \u001b[39m\u001b[38;5;21mbind\u001b[39m(\u001b[38;5;28mself\u001b[39m, \u001b[38;5;241m/\u001b[39m, \u001b[38;5;241m*\u001b[39margs, \u001b[38;5;241m*\u001b[39m\u001b[38;5;241m*\u001b[39mkwargs):\n\u001b[1;32m   3041\u001b[0m \u001b[38;5;250m    \u001b[39m\u001b[38;5;124;03m\"\"\"Get a BoundArguments object, that maps the passed `args`\u001b[39;00m\n\u001b[1;32m   3042\u001b[0m \u001b[38;5;124;03m    and `kwargs` to the function's signature.  Raises `TypeError`\u001b[39;00m\n\u001b[1;32m   3043\u001b[0m \u001b[38;5;124;03m    if the passed arguments can not be bound.\u001b[39;00m\n\u001b[1;32m   3044\u001b[0m \u001b[38;5;124;03m    \"\"\"\u001b[39;00m\n\u001b[0;32m-> 3045\u001b[0m     \u001b[38;5;28;01mreturn\u001b[39;00m \u001b[38;5;28;43mself\u001b[39;49m\u001b[38;5;241;43m.\u001b[39;49m\u001b[43m_bind\u001b[49m\u001b[43m(\u001b[49m\u001b[43margs\u001b[49m\u001b[43m,\u001b[49m\u001b[43m \u001b[49m\u001b[43mkwargs\u001b[49m\u001b[43m)\u001b[49m\n",
      "File \u001b[0;32m~/.pyenv/versions/miniconda3-latest/envs/main-ds/lib/python3.9/inspect.py:3034\u001b[0m, in \u001b[0;36mSignature._bind\u001b[0;34m(self, args, kwargs, partial)\u001b[0m\n\u001b[1;32m   3032\u001b[0m         arguments[kwargs_param\u001b[38;5;241m.\u001b[39mname] \u001b[38;5;241m=\u001b[39m kwargs\n\u001b[1;32m   3033\u001b[0m     \u001b[38;5;28;01melse\u001b[39;00m:\n\u001b[0;32m-> 3034\u001b[0m         \u001b[38;5;28;01mraise\u001b[39;00m \u001b[38;5;167;01mTypeError\u001b[39;00m(\n\u001b[1;32m   3035\u001b[0m             \u001b[38;5;124m'\u001b[39m\u001b[38;5;124mgot an unexpected keyword argument \u001b[39m\u001b[38;5;132;01m{arg!r}\u001b[39;00m\u001b[38;5;124m'\u001b[39m\u001b[38;5;241m.\u001b[39mformat(\n\u001b[1;32m   3036\u001b[0m                 arg\u001b[38;5;241m=\u001b[39m\u001b[38;5;28mnext\u001b[39m(\u001b[38;5;28miter\u001b[39m(kwargs))))\n\u001b[1;32m   3038\u001b[0m \u001b[38;5;28;01mreturn\u001b[39;00m \u001b[38;5;28mself\u001b[39m\u001b[38;5;241m.\u001b[39m_bound_arguments_cls(\u001b[38;5;28mself\u001b[39m, arguments)\n",
      "\u001b[0;31mTypeError\u001b[0m: got an unexpected keyword argument 'squared'"
     ]
    }
   ],
   "source": [
    "from sklearn.metrics import mean_squared_error\n",
    "\n",
    "# predict on training data\n",
    "y_pred_train = random_forest_model.predict(X_train)\n",
    "\n",
    "# calculate RMSE for training data\n",
    "error_train = np.sqrt(mean_squared_error(\n",
    "    y_true=y_train,\n",
    "    y_pred=y_pred_train,\n",
    "    squared=False\n",
    "))\n",
    "\n",
    "# predict on test data\n",
    "y_pred_test = random_forest_model.predict(X_test)\n",
    "\n",
    "# calculate RMSE for test data\n",
    "error_test = np.sqrt(mean_squared_error(\n",
    "    y_true=y_test,\n",
    "    y_pred=y_pred_test,\n",
    "    squared=False\n",
    "))\n",
    "\n",
    "print('Error in Training Data : ', error_train)\n",
    "print('Error in Test Data : ', error_test)\n"
   ]
  },
  {
   "cell_type": "markdown",
   "id": "92f6e027-9a90-4b6b-afb0-30c8f3cdd45c",
   "metadata": {},
   "source": [
    "#### Plot Error\n",
    "\n",
    "---"
   ]
  },
  {
   "cell_type": "code",
   "execution_count": null,
   "id": "4cd04d73-ab60-4360-99d4-6d676e029651",
   "metadata": {},
   "outputs": [],
   "source": [
    "y_train"
   ]
  },
  {
   "cell_type": "code",
   "execution_count": null,
   "id": "283ab8ab-289b-48db-99fe-2d26d759ef06",
   "metadata": {},
   "outputs": [],
   "source": [
    "fig,ax = plt.subplots(nrows=1,\n",
    "                      ncols=2,\n",
    "                      figsize=(12,6))\n",
    "sns.scatterplot(x=y_train['NettReturn'],y=y_pred_train,label='Training Data',ax=ax[0],color='blue')\n",
    "sns.scatterplot(x=y_test['NettReturn'],y=y_pred_test,label='Test Data',ax=ax[1])\n",
    "ax[0].set_xlabel('Actual Data')\n",
    "ax[0].set_ylabel('Predicted Data')\n",
    "ax[1].set_xlabel('Actual Data')\n",
    "ax[1].set_ylabel('Predicted Data')\n",
    "plt.title('Predicted vs Actual Value')"
   ]
  },
  {
   "cell_type": "markdown",
   "id": "1a8db883-7d92-4276-8ad4-0830aef1c0cb",
   "metadata": {},
   "source": [
    "**Experiment** :     \n",
    "\n",
    "- What if We change the number of lagReturn we use ?\n",
    "  - 4\n",
    "  - 5\n",
    "  - 6\n",
    "  - 1\n",
    "  - 2"
   ]
  },
  {
   "cell_type": "markdown",
   "id": "1cd49f57-4974-4006-b642-7235de41c813",
   "metadata": {},
   "source": [
    "# Building Machine Learning Portofolio Strategy\n",
    "---\n",
    "\n",
    "\n"
   ]
  },
  {
   "cell_type": "markdown",
   "id": "71abf56c-37de-41fc-abd2-434debe86d2f",
   "metadata": {},
   "source": [
    "**Objective**\n",
    "\n",
    "1. Understand How to Make Machine Learning Powered Portofolio"
   ]
  },
  {
   "cell_type": "markdown",
   "id": "bcd9780c-f1e4-40e6-a76b-13fb951c774d",
   "metadata": {},
   "source": [
    "**Factor Definitions**\n",
    "\n",
    "1.  *LagReturn-6M* is defined as the past 6 months of the nett returns, i.e.\n",
    "\n",
    "  $$\n",
    "  \\mathbf{R}_{t-6} = \\left( \\frac{\\mathbf{P}_{t-6}-\\mathbf{P}_{t-7}}{\\mathbf{P}_{t-7}} \\right)\n",
    "  $$\n",
    "\n",
    "\n",
    "   - $\\mathbf{R}_{t-6}$ : Lag 6 Month Return\n",
    "   - $\\mathbf{P}_{t}$ : Close Price at time t\n",
    "\n",
    "\n",
    "2. *Momentum Variable* , Nett Return Between Previous 2 to 12 Months\n",
    "\n",
    "\n",
    "  $$\n",
    "  \\mathbf{MOM}_{t} = \\left( \\frac{\\mathbf{P}_{t-2}-\\mathbf{P}_{t-12}}{\\mathbf{P}_{t-12}} \\right)\n",
    "  $$\n",
    "\n",
    "  - $\\mathbf{MOM}_{t}$ : Momentum of Return at time t\n",
    "  - $\\mathbf{P}_{t}$ : Close Price at time t\n",
    "\n",
    "3. *Reversal Variable* , Previous Month Return\n",
    "\n",
    "\n",
    "$$\n",
    "\\mathbf{REV}_{t} = \\left( \\frac{\\mathbf{P}_{t-1}-\\mathbf{P}_{t-2}}{\\mathbf{P}_{t-2}} \\right)\n",
    "$$\n",
    "\n",
    "- $\\mathbf{REV}_{t}$ : Reversal of Return at time t\n",
    "- $\\mathbf{P}_{t}$ : Close Price at time t"
   ]
  },
  {
   "cell_type": "markdown",
   "id": "7232829e-f8ee-457a-9226-5fd5c67ee48a",
   "metadata": {},
   "source": [
    "**Methodology**\n",
    "\n",
    "- We construct portofolio by taking **Top N%** stocks\n",
    "- **Top N%** is taken from predicted from return prediction result from machine learning model\n",
    "- Then compare the cumulative returns with the IHSG Index"
   ]
  },
  {
   "cell_type": "markdown",
   "id": "f87e9d13-2ac9-4642-afee-b468ec7e26f8",
   "metadata": {},
   "source": [
    "**Assumptions**\n",
    "- Transactions fees of 0.5% of the nett returns\n",
    "- Rebalance the portfolio every month"
   ]
  },
  {
   "cell_type": "markdown",
   "id": "bce407d8-7a66-4fd7-9d81-d8ea059f7355",
   "metadata": {},
   "source": [
    "**Portofolio Construction Workflow**  \n",
    "\n",
    "\n",
    "For each portofolio construction (rebalance) period :   \n",
    "\n",
    "\n",
    "<center><img src=\"https://sekolahdata-assets.s3.ap-southeast-1.amazonaws.com/notebook-images/quant-sc-03/worklow-2.png\"></center>"
   ]
  },
  {
   "cell_type": "markdown",
   "id": "45d03d02-6085-440f-8d42-b8b113ca95b6",
   "metadata": {},
   "source": [
    "**Example of results**\n",
    "\n",
    "<center>\n",
    "<img src=\"https://sekolahdata-assets.s3.ap-southeast-1.amazonaws.com/notebook-images/quant-p01/output_portfolio_indo.png\" width=800>"
   ]
  },
  {
   "cell_type": "markdown",
   "id": "173f5932-d3b0-47f1-85f9-f9d91401beb4",
   "metadata": {},
   "source": [
    "## Load Data\n",
    "---"
   ]
  },
  {
   "cell_type": "markdown",
   "id": "ce888a55-add3-44bb-8e7e-f00687d99bd5",
   "metadata": {},
   "source": [
    "**Data Definition**  \n",
    "\n",
    "<center>\n",
    "<table border=\"1\">\n",
    "  <tr>\n",
    "    <th>Columns</th>\n",
    "    <th>Description</th>\n",
    "  </tr>\n",
    "  <tr>\n",
    "    <td>Ticker</td>\n",
    "    <td>Company Code</td>\n",
    "  </tr>\n",
    "  <tr>\n",
    "    <td>Date</td>\n",
    "    <td>Datetime (End of the Month)</td>\n",
    "  </tr>\n",
    "  <tr>\n",
    "    <td>PriceClose</td>\n",
    "    <td>Close Price at given date</td>\n",
    "  </tr>\n",
    "  <tr>\n",
    "    <td>PriceOpen</td>\n",
    "    <td>Open Price at given date</td>\n",
    "  </tr>\n",
    "  <tr>\n",
    "    <td>PriceHigh</td>\n",
    "    <td>Highest Price at given date</td>\n",
    "  </tr>\n",
    "  <tr>\n",
    "    <td>PriceLow</td>\n",
    "    <td>Lowest Price at given date</td>\n",
    "  </tr>\n",
    "</table>\n",
    "\n",
    "</center>"
   ]
  },
  {
   "cell_type": "code",
   "execution_count": null,
   "id": "b2ee559f-a3e4-43f4-832f-21bf6baccd6c",
   "metadata": {},
   "outputs": [],
   "source": [
    "# read data\n",
    "path='price_data_ver1.csv'\n",
    "\n",
    "data = pd.read_csv(path,\n",
    "                   parse_dates=['Date'])\n",
    "data.head()"
   ]
  },
  {
   "cell_type": "code",
   "execution_count": null,
   "id": "fe763e2f-8db7-416a-8938-8bfc3f999e8b",
   "metadata": {},
   "outputs": [],
   "source": [
    "data.Ticker.nunique()"
   ]
  },
  {
   "cell_type": "code",
   "execution_count": null,
   "id": "a760a517-fd77-45f7-81fc-85aef25aa478",
   "metadata": {},
   "outputs": [],
   "source": [
    "stocks_data = data[['Ticker','Date','PriceClose']].copy()"
   ]
  },
  {
   "cell_type": "markdown",
   "id": "abc71a60-00ba-482d-8f9f-2ad59aea765a",
   "metadata": {},
   "source": [
    "### Creating Feature\n",
    "---\n",
    "\n"
   ]
  },
  {
   "cell_type": "markdown",
   "id": "20dde897-5181-4829-92a2-60065992c579",
   "metadata": {},
   "source": [
    "#### 1. **Momentum Variable**\n",
    "\n",
    "\n",
    "$$\n",
    "\\mathbf{MOM}_{t} = \\left( \\frac{\\mathbf{P}_{t-2}-\\mathbf{P}_{t-12}}{\\mathbf{P}_{t-12}} \\right)\n",
    "$$\n",
    "\n",
    "- $\\mathbf{MOM}_{t}$ : Momentum of Return at time t\n",
    "- $\\mathbf{P}_{t}$ : Close Price at time t"
   ]
  },
  {
   "cell_type": "code",
   "execution_count": null,
   "id": "d2eabac0-8d24-49d1-b005-26b2aeea98aa",
   "metadata": {},
   "outputs": [],
   "source": [
    "def calculate_momentum(data) :\n",
    "  \"\"\"Calculate Momentum using T-12 Month up to T-2 Month Return\"\"\"\n",
    "  data = data.copy()\n",
    "  container = []\n",
    "  # loop all over ticker\n",
    "  for ticker in data['Ticker'].unique() :\n",
    "    ticker_data = data.loc[\n",
    "        data['Ticker']==ticker\n",
    "    ]\n",
    "    ticker_data['FactorMomentum'] = (data['PriceClose'].shift(2) - data['PriceClose'].shift(12))\\\n",
    "                                  /( data['PriceClose'].shift(12))\n",
    "    # append data\n",
    "    container.append(ticker_data)\n",
    "  # combined data again\n",
    "  combined_data = pd.concat(container,axis=0)\n",
    "  return combined_data\n",
    "\n",
    "stocks_data = calculate_momentum(data = stocks_data)\n",
    "stocks_data.head(13)"
   ]
  },
  {
   "cell_type": "markdown",
   "id": "ebe77e2c-3a4b-47fd-b3cb-9015191c2a03",
   "metadata": {},
   "source": [
    "#### 2. **Reversal Variable**\n",
    "\n",
    "\n",
    "$$\n",
    "\\mathbf{REV}_{t} = \\left( \\frac{\\mathbf{P}_{t-1}-\\mathbf{P}_{t-2}}{\\mathbf{P}_{t-2}} \\right)\n",
    "$$\n",
    "\n",
    "- $\\mathbf{REV}_{t}$ : Reversal of Return at time t\n",
    "- $\\mathbf{P}_{t}$ : Close Price at time t"
   ]
  },
  {
   "cell_type": "code",
   "execution_count": null,
   "id": "826ffa29-005f-43c0-8da9-d26a914d8118",
   "metadata": {},
   "outputs": [],
   "source": [
    "def calculate_reversal(data) :\n",
    "  \"\"\"Calculate Reversal using previous month return \"\"\"\n",
    "  data = data.copy()\n",
    "  container = []\n",
    "  # loop all over ticker\n",
    "  for ticker in data['Ticker'].unique() :\n",
    "    ticker_data = data.loc[\n",
    "        data['Ticker']==ticker\n",
    "    ]\n",
    "    ticker_data['FactorReversal'] = (data['PriceClose'].shift(1) - data['PriceClose'].shift(2))\\\n",
    "                                  /( data['PriceClose'].shift(2))\n",
    "    # append data\n",
    "    container.append(ticker_data)\n",
    "  # combined data again\n",
    "  combined_data = pd.concat(container,axis=0)\n",
    "  return combined_data\n",
    "\n",
    "stocks_data = calculate_reversal(data = stocks_data)\n",
    "stocks_data.head(13)"
   ]
  },
  {
   "cell_type": "markdown",
   "id": "2d1ee42e-dfa4-40bd-beea-d5f290f09151",
   "metadata": {},
   "source": [
    "#### 3. **Lagged Return** Last 6 Month\n",
    "\n",
    "\n",
    "$$\n",
    "\\mathbf{R}_{t-6} = \\left( \\frac{\\mathbf{P}_{t-6}-\\mathbf{P}_{t-7}}{\\mathbf{P}_{t-7}} \\right)\n",
    "$$\n",
    "\n",
    "- $\\mathbf{R}_{t-6}$ : Lag 6 Month Return\n",
    "- $\\mathbf{P}_{t}$ : Close Price at time t"
   ]
  },
  {
   "cell_type": "code",
   "execution_count": null,
   "id": "dd3bfd5f-d124-4b39-a17b-813508a7c4a8",
   "metadata": {},
   "outputs": [],
   "source": [
    "def calculate_lag_return(data) :\n",
    "  \"\"\"Calculate Lag Return  using previous 6 month return \"\"\"\n",
    "  data = data.copy()\n",
    "  container = []\n",
    "  # loop all over ticker\n",
    "  for ticker in data['Ticker'].unique() :\n",
    "    ticker_data = data.loc[\n",
    "        data['Ticker']==ticker\n",
    "    ]\n",
    "    ticker_data['FactorLagReturn-6M'] = (data['PriceClose'].shift(6) - data['PriceClose'].shift(7))\\\n",
    "                                  /( data['PriceClose'].shift(7))\n",
    "    # append data\n",
    "    container.append(ticker_data)\n",
    "  # combined data again\n",
    "  combined_data = pd.concat(container,axis=0)\n",
    "  return combined_data\n",
    "\n",
    "stocks_data = calculate_lag_return(data = stocks_data)\n",
    "stocks_data.head(13)"
   ]
  },
  {
   "cell_type": "markdown",
   "id": "e38f5e2c-2b68-4d47-ad02-586d57e95ed3",
   "metadata": {},
   "source": [
    "### Calculate Label\n",
    "\n",
    "\n"
   ]
  },
  {
   "cell_type": "markdown",
   "id": "a90bad6a-13a2-4338-a60c-a28199b6d3c1",
   "metadata": {},
   "source": [
    "Our Label : Next Month Nett Return\n",
    "$$\n",
    "\\mathbf{R}_{t+1} = \\left( \\frac{\\mathbf{P}_{t+1}-\\mathbf{P}_{t}}{\\mathbf{P}_{t}} \\right)\n",
    "$$\n",
    "\n",
    "- $\\mathbf{R}_{t+1}$ : Next Month Return\n",
    "- $\\mathbf{P}_{t}$ : Close Price at time t"
   ]
  },
  {
   "cell_type": "code",
   "execution_count": null,
   "id": "0a4ed971-5e7d-4b33-9f63-02fcef48aed2",
   "metadata": {},
   "outputs": [],
   "source": [
    "def calculate_next_month_return(data) :\n",
    "    \"\"\"Calculate Next Month Return \"\"\"\n",
    "    data = data.copy()\n",
    "    container = []\n",
    "    # loop all over ticker\n",
    "    for ticker in data['Ticker'].unique() :\n",
    "      ticker_data = data.loc[\n",
    "          data['Ticker']==ticker\n",
    "      ]\n",
    "      ticker_data['Rt+1'] = (data['PriceClose'].shift(-1) - data['PriceClose'].shift(0))\\\n",
    "                                    /( data['PriceClose'].shift(0))\n",
    "      ticker_data['Rt+1'] = ticker_data['Rt+1'].fillna(-1)\n",
    "      # append data\n",
    "      container.append(ticker_data)\n",
    "    # combined data again\n",
    "    combined_data = pd.concat(container,axis=0)\n",
    "    return combined_data"
   ]
  },
  {
   "cell_type": "code",
   "execution_count": null,
   "id": "33e69c33-05d7-45af-8ac0-9824092911ad",
   "metadata": {},
   "outputs": [],
   "source": [
    "stocks_data = calculate_next_month_return(data=stocks_data)"
   ]
  },
  {
   "cell_type": "markdown",
   "id": "676d663b-02f8-4158-864f-56f8af3e2e68",
   "metadata": {},
   "source": [
    "### Select Only Necessary Column\n",
    "---"
   ]
  },
  {
   "cell_type": "code",
   "execution_count": null,
   "id": "d7d780fd-0ada-4385-b4a6-934b6b7308cf",
   "metadata": {},
   "outputs": [],
   "source": [
    "stocks_data.columns"
   ]
  },
  {
   "cell_type": "code",
   "execution_count": null,
   "id": "c5a9360c-ec9d-4bef-9ab4-d3668e0d2294",
   "metadata": {},
   "outputs": [],
   "source": [
    "cols_preserved = ['Ticker', 'Date', 'FactorMomentum',\n",
    "                  'FactorReversal','FactorLagReturn-6M', 'Rt+1']\n",
    "\n",
    "stocks_data = stocks_data.loc[:,\n",
    "                              cols_preserved\n",
    "                              ]\n",
    "stocks_data.head(2)"
   ]
  },
  {
   "cell_type": "code",
   "execution_count": null,
   "id": "1e847e53-a504-47f9-9486-9c6ad6145e02",
   "metadata": {},
   "outputs": [],
   "source": [
    "# filter date\n",
    "start_period = '2009-01-01'\n",
    "end_period = '2024-12-31'\n",
    "\n",
    "stocks_data = stocks_data.loc[\n",
    "    (stocks_data['Date'] >= start_period) &\n",
    "    (stocks_data['Date'] <= end_period)\n",
    "]\n",
    "stocks_data.head(5)"
   ]
  },
  {
   "cell_type": "markdown",
   "id": "ae864ec3-bee0-4730-ab55-d2c399907657",
   "metadata": {},
   "source": [
    "## BackTesting\n",
    "---"
   ]
  },
  {
   "cell_type": "markdown",
   "id": "933901dd-9ee1-4f6f-93bb-085d9f29f8c9",
   "metadata": {},
   "source": [
    "Does the backtest difference in machine learning portofolio strategy ?\n",
    "\n",
    "\n",
    "\n",
    "> **There is a difference, where we need to create buffer period to train machine learning model to construct portofolio**\n",
    "\n"
   ]
  },
  {
   "cell_type": "markdown",
   "id": "d92598f4-ebbc-4176-8f48-51ebc8d4e003",
   "metadata": {},
   "source": [
    "\n",
    "\n",
    "<center>\n",
    "<img src=\"http://www.mlfactor.com/images/backtestoos.png\">\n",
    "<a href=\"http://www.mlfactor.com/images/backtestoos.png\">Source</a>\n",
    "</center>"
   ]
  },
  {
   "cell_type": "markdown",
   "id": "068638b0-f862-4e0f-b721-2f9ae3161d75",
   "metadata": {},
   "source": [
    "Setups / Assumption :    \n",
    "\n",
    "- Rebalance : Monthly Period\n",
    "- Long Only Transaction : Buy An Asset that we assume will have positive return"
   ]
  },
  {
   "cell_type": "markdown",
   "id": "45da0fd5-54c5-4e1f-b788-f07ad168feec",
   "metadata": {},
   "source": [
    "### Backtesting : One Period Example\n",
    "---"
   ]
  },
  {
   "cell_type": "markdown",
   "id": "1b69a7d7-65d2-4b2c-b566-e1cf7b2ceb59",
   "metadata": {},
   "source": [
    "#### Creating Buffer Period\n",
    "---"
   ]
  },
  {
   "cell_type": "markdown",
   "id": "f36f071a-730b-4dae-b3c5-50d45a8719f4",
   "metadata": {},
   "source": [
    "Initial Buffer Period : 2-10 Years"
   ]
  },
  {
   "cell_type": "code",
   "execution_count": null,
   "id": "47110dff-eb98-4595-9633-13ee71f3ac80",
   "metadata": {},
   "outputs": [],
   "source": [
    "start_period = '2009-01-01'\n",
    "end_period = '2024-12-31'\n",
    "buffer_n_year = 2\n",
    "\n",
    "initial_buffer_start = pd.to_datetime(start_period) + pd.offsets.MonthEnd(n=1) \n",
    "initial_buffer_end = pd.to_datetime(start_period) + pd.offsets.YearEnd(n=buffer_n_year)"
   ]
  },
  {
   "cell_type": "code",
   "execution_count": null,
   "id": "880a6bb1-e68f-45d6-baa7-1e5b4ae2ea15",
   "metadata": {},
   "outputs": [],
   "source": [
    "print(initial_buffer_start)"
   ]
  },
  {
   "cell_type": "code",
   "execution_count": null,
   "id": "8de4f7d8-6f97-4a08-9679-7e730f3e91d2",
   "metadata": {},
   "outputs": [],
   "source": [
    "print(initial_buffer_end) # validate if its ending in 2010-12-31"
   ]
  },
  {
   "cell_type": "code",
   "execution_count": null,
   "id": "89631d2d-6718-4cf9-a957-4f1f714ffd44",
   "metadata": {},
   "outputs": [],
   "source": [
    "buffer_data = stocks_data.loc[\n",
    "    (stocks_data['Date'] >= initial_buffer_start) &\n",
    "    (stocks_data['Date'] <= initial_buffer_end)\n",
    "]"
   ]
  },
  {
   "cell_type": "code",
   "execution_count": null,
   "id": "c72b5a18-4eae-4c59-8496-bd29d83cafa1",
   "metadata": {},
   "outputs": [],
   "source": [
    "buffer_data"
   ]
  },
  {
   "cell_type": "markdown",
   "id": "c559353b-fbf1-4891-b62a-cd5b9b989d06",
   "metadata": {},
   "source": [
    "split data for training purpose"
   ]
  },
  {
   "cell_type": "code",
   "execution_count": null,
   "id": "b677db47-dffd-4d74-9704-f917866fc016",
   "metadata": {},
   "outputs": [],
   "source": [
    "feature = ['FactorMomentum','FactorReversal','FactorLagReturn-6M']\n",
    "\n",
    "X_buffer = buffer_data.loc[\n",
    "    :,feature\n",
    "]\n",
    "y_buffer = buffer_data['Rt+1']"
   ]
  },
  {
   "cell_type": "markdown",
   "id": "d3b29d1d-c195-4380-8462-c6e9d33bfa83",
   "metadata": {},
   "source": [
    "make it into function"
   ]
  },
  {
   "cell_type": "code",
   "execution_count": null,
   "id": "087ae772-9fb0-4ff8-9343-000dc0200f0d",
   "metadata": {},
   "outputs": [],
   "source": [
    "def get_training_data(data,\n",
    "                      initial_buffer_start,\n",
    "                      initial_buffer_end,\n",
    "                      feature_cols) :\n",
    "  data = data.copy()\n",
    "  # filter buffer\n",
    "  training_data = data.loc[\n",
    "    (data['Date'] >= initial_buffer_start) &\n",
    "    (data['Date'] <= initial_buffer_end)\n",
    "  ]\n",
    "\n",
    "\n",
    "  X_train = training_data.loc[\n",
    "      :,feature_cols\n",
    "  ]\n",
    "  y_train = training_data['Rt+1']\n",
    "  return X_train,y_train\n",
    "\n"
   ]
  },
  {
   "cell_type": "code",
   "execution_count": null,
   "id": "c72604dc-c196-47d9-b32c-9b60dd91e2fa",
   "metadata": {},
   "outputs": [],
   "source": [
    "start_period = '2009-01-01'\n",
    "end_period = '2024-12-31'\n",
    "buffer_n_year = 2\n",
    "\n",
    "initial_buffer_start = pd.to_datetime(start_period) + pd.offsets.MonthEnd(n=1) # should ended in 2010\n",
    "initial_buffer_end = pd.to_datetime(start_period) + pd.offsets.YearEnd(n=buffer_n_year)\n",
    "\n",
    "feature = ['FactorMomentum','FactorReversal','FactorLagReturn-6M']\n",
    "\n",
    "X_buffer,y_buffer = get_training_data(data = stocks_data,\n",
    "                      initial_buffer_start = initial_buffer_start,\n",
    "                      initial_buffer_end = initial_buffer_end ,\n",
    "                      feature_cols = feature)\n"
   ]
  },
  {
   "cell_type": "code",
   "execution_count": null,
   "id": "c6e17272-bc35-43ac-8437-44a47d375b04",
   "metadata": {},
   "outputs": [],
   "source": [
    "X_buffer"
   ]
  },
  {
   "cell_type": "code",
   "execution_count": null,
   "id": "4e4fb191-ef2c-46e3-be33-9500e676761f",
   "metadata": {},
   "outputs": [],
   "source": [
    "y_buffer"
   ]
  },
  {
   "cell_type": "markdown",
   "id": "f33c62bc-564e-4c70-b047-a9b504ce6224",
   "metadata": {},
   "source": [
    "#### Training Machine Learning Model\n",
    "---"
   ]
  },
  {
   "cell_type": "markdown",
   "id": "3fa1ba64-80a0-4dd9-a009-278b64ca7f97",
   "metadata": {},
   "source": [
    "Next, we are going to simulate training on buffer period"
   ]
  },
  {
   "cell_type": "code",
   "execution_count": null,
   "id": "caf4babb-161f-4a64-a667-918c385a060f",
   "metadata": {},
   "outputs": [],
   "source": [
    "from sklearn.ensemble import RandomForestRegressor\n",
    "\n",
    "\n",
    "model = RandomForestRegressor()\n",
    "model.fit(X_buffer,y_buffer)"
   ]
  },
  {
   "cell_type": "markdown",
   "id": "917fa00e-fdca-4340-9d43-c51004c1fcde",
   "metadata": {},
   "source": [
    "create function to fit model"
   ]
  },
  {
   "cell_type": "code",
   "execution_count": null,
   "id": "86e46840-2bd6-4a62-9b4a-010236dc1e1f",
   "metadata": {},
   "outputs": [],
   "source": [
    "def train_ml_model(X_train,\n",
    "                   y_train) :\n",
    "\n",
    "   model = RandomForestRegressor(n_estimators=20,\n",
    "                                 random_state=42) # for reproducible result\n",
    "   model.fit(X_train,y_train)\n",
    "\n",
    "   return model\n"
   ]
  },
  {
   "cell_type": "code",
   "execution_count": null,
   "id": "d8d2d125-770f-487b-a49b-c034487b884d",
   "metadata": {},
   "outputs": [],
   "source": [
    "model = train_ml_model(X_train = X_buffer,\n",
    "                       y_train = y_buffer)\n"
   ]
  },
  {
   "cell_type": "markdown",
   "id": "0890fed3-3129-4a06-b9bd-824aa25e32de",
   "metadata": {},
   "source": [
    "#### Construct Portofolio\n",
    "---"
   ]
  },
  {
   "cell_type": "markdown",
   "id": "24086127-0aab-4b48-af71-d416c5731430",
   "metadata": {},
   "source": [
    "Construct portofolio on the next month after buffer period"
   ]
  },
  {
   "cell_type": "code",
   "execution_count": null,
   "id": "df86973d-26a5-45f2-a5f1-468d2f612bb7",
   "metadata": {},
   "outputs": [],
   "source": [
    "first_porto_date = (initial_buffer_end + \\\n",
    "               pd.offsets.MonthEnd(n=1)) # it should yield 2011-01-31\n",
    "print('first porto construction date',first_porto_date)"
   ]
  },
  {
   "cell_type": "code",
   "execution_count": null,
   "id": "ce2c37e1-facc-4e0e-852e-f5f4c2a4f344",
   "metadata": {},
   "outputs": [],
   "source": [
    "# select data\n",
    "X_porto = stocks_data.loc[\n",
    "    (stocks_data['Date'] == first_porto_date),feature\n",
    "]\n",
    "y_porto  = stocks_data.loc[\n",
    "    (stocks_data['Date'] == first_porto_date),['Ticker','Date']\n",
    "]\n",
    "return_porto = stocks_data.loc[\n",
    "    stocks_data['Date'] == first_porto_date,\n",
    "    ['Ticker','Date','Rt+1'] ]"
   ]
  },
  {
   "cell_type": "code",
   "execution_count": null,
   "id": "05d01c7f-023f-4ee2-98cf-f545ff724dcc",
   "metadata": {},
   "outputs": [],
   "source": [
    "def get_return_pred_data(data,\n",
    "                         porto_date,\n",
    "                         feature_cols,\n",
    "                         ) :\n",
    "    data = data.copy()\n",
    "\n",
    "    X_porto = data.loc[\n",
    "    (data['Date'] == porto_date),feature_cols\n",
    "    ]\n",
    "\n",
    "    y_porto  = data.loc[\n",
    "        (data['Date'] == porto_date),['Ticker','Date']\n",
    "    ]\n",
    "\n",
    "    return_porto = data.loc[\n",
    "    (data['Date'] == porto_date),['Ticker','Date','Rt+1']\n",
    "    ]\n",
    "    return X_porto,y_porto,return_porto\n"
   ]
  },
  {
   "cell_type": "code",
   "execution_count": null,
   "id": "b8a0ed52-4b85-4ca9-a310-21e95673acee",
   "metadata": {},
   "outputs": [],
   "source": [
    "feature = ['FactorMomentum','FactorReversal','FactorLagReturn-6M']\n",
    "\n",
    "X_porto,y_porto,return_porto = get_return_pred_data(data=stocks_data,\n",
    "                         porto_date = first_porto_date,\n",
    "                         feature_cols = feature,\n",
    "                         )"
   ]
  },
  {
   "cell_type": "code",
   "execution_count": null,
   "id": "270e5546-8fd6-469f-aa7f-078b972003de",
   "metadata": {},
   "outputs": [],
   "source": [
    "y_porto"
   ]
  },
  {
   "cell_type": "code",
   "execution_count": null,
   "id": "9d58efec-d153-4e9d-8f7e-87af72cca071",
   "metadata": {},
   "outputs": [],
   "source": [
    "X_porto"
   ]
  },
  {
   "cell_type": "code",
   "execution_count": null,
   "id": "fcb6aabd-2f59-43df-baca-2901446de8c2",
   "metadata": {},
   "outputs": [],
   "source": [
    "return_porto"
   ]
  },
  {
   "cell_type": "code",
   "execution_count": null,
   "id": "191fb226-a833-4666-9c54-7a5cd01e41a6",
   "metadata": {},
   "outputs": [],
   "source": [
    "# predict next return\n",
    "\n",
    "y_porto['Pred Rt+1'] = model.predict(X_porto)"
   ]
  },
  {
   "cell_type": "code",
   "execution_count": null,
   "id": "0b252616-7d31-4936-ab02-6abdf8941b3c",
   "metadata": {},
   "outputs": [],
   "source": [
    "y_porto.head()"
   ]
  },
  {
   "cell_type": "code",
   "execution_count": null,
   "id": "6750df92-6a8b-43f7-9234-6b507377ada5",
   "metadata": {},
   "outputs": [],
   "source": [
    "# construct porto --> pick top 10% bin\n",
    "y_porto['is_porto'] = pd.qcut(y_porto['Pred Rt+1'],q=[0,0.9,1.0],labels=[False,True])\n",
    "y_porto"
   ]
  },
  {
   "cell_type": "code",
   "execution_count": null,
   "id": "509ad3bf-797e-4f63-95ad-a6e610ff8fc5",
   "metadata": {},
   "outputs": [],
   "source": [
    "# show which stocks belong to our porto\n",
    "y_porto.loc[\n",
    "    y_porto['is_porto']==True\n",
    "]"
   ]
  },
  {
   "cell_type": "code",
   "execution_count": null,
   "id": "d049d3a6-4347-44b0-89d9-b85fe683a060",
   "metadata": {},
   "outputs": [],
   "source": [
    "# filter return data based on portofolio constructed\n",
    "ticker_list = y_porto.loc[\n",
    "    y_porto['is_porto']==True,'Ticker'\n",
    "].unique().tolist()\n",
    "\n",
    "return_portofolio = return_porto.loc[\n",
    "    return_porto['Ticker'].isin(ticker_list)\n",
    "]"
   ]
  },
  {
   "cell_type": "code",
   "execution_count": null,
   "id": "6bbed22f-5574-4e6e-b424-b06c04d874d8",
   "metadata": {},
   "outputs": [],
   "source": [
    "return_portofolio"
   ]
  },
  {
   "cell_type": "code",
   "execution_count": null,
   "id": "590d61d9-d5fb-47cc-9433-4511b83deee2",
   "metadata": {},
   "outputs": [],
   "source": [
    "def construct_portofolio(data,\n",
    "                         porto_date,\n",
    "                         feature_cols,\n",
    "                         model,\n",
    "                         percentile) :\n",
    "\n",
    "    X_porto,y_porto,return_porto = get_return_pred_data(data=data,\n",
    "                         porto_date = porto_date,\n",
    "                         feature_cols = feature_cols,\n",
    "                         )\n",
    "    # predict return using model\n",
    "    y_porto['Pred Rt+1'] = model.predict(X_porto)\n",
    "\n",
    "    # construct portofolio\n",
    "    bound = 1  - percentile\n",
    "    y_porto['is_porto'] = pd.qcut(y_porto['Pred Rt+1'],q=[0,bound,1.0],labels=[False,True])\n",
    "\n",
    "    ticker_list = y_porto.loc[\n",
    "    y_porto['is_porto']==True,'Ticker'\n",
    "    ].unique().tolist()\n",
    "\n",
    "    return_portofolio = return_porto.loc[\n",
    "        return_porto['Ticker'].isin(ticker_list)\n",
    "    ]\n",
    "\n",
    "    return return_portofolio"
   ]
  },
  {
   "cell_type": "code",
   "execution_count": null,
   "id": "6f0257d2-b5c2-40a9-9257-726b88c87b2b",
   "metadata": {},
   "outputs": [],
   "source": [
    "feature = ['FactorMomentum','FactorReversal','FactorLagReturn-6M']\n",
    "percentile = 0.1 # top 10%\n",
    "return_portofolio = construct_portofolio(data=stocks_data,\n",
    "                         porto_date = first_porto_date,\n",
    "                         feature_cols = feature,\n",
    "                         model = model ,\n",
    "                         percentile=percentile)"
   ]
  },
  {
   "cell_type": "code",
   "execution_count": null,
   "id": "0f9a5ea6-0d32-417e-afb6-09ddb486ca42",
   "metadata": {},
   "outputs": [],
   "source": [
    "return_portofolio"
   ]
  },
  {
   "cell_type": "markdown",
   "id": "c806c587-8184-4fcc-aeb3-4a8213fa5faa",
   "metadata": {},
   "source": [
    "#### Calculate Portofolio Return\n",
    "---"
   ]
  },
  {
   "cell_type": "markdown",
   "id": "1eb2f5dd-387b-4dd6-a094-d20c8477f27a",
   "metadata": {},
   "source": [
    "$$\n",
    "\\mathbf{Portofolio Return}_t = ((\\sum_i^N w_i * R_{it}) - FEE)\n",
    "$$\n",
    "\n",
    "- $w_i$ : weight of  stock **i** in portofolio\n",
    "- $R_{it}$ : Net Return of stock **i** on period **t**\n",
    "- $N$ : Number of stocks in portofolio at time **t**\n",
    "- $FEE$ : Transaction Cost , assumed 0.5%"
   ]
  },
  {
   "cell_type": "code",
   "execution_count": null,
   "id": "60aea687-a76e-4c38-a8d8-5f894a520f33",
   "metadata": {},
   "outputs": [],
   "source": [
    "# return on portofolio --> since our weight is uniform --> similar to average\n",
    "FEE = 0.005\n",
    "return_first_month_portofolio = return_portofolio['Rt+1'].mean() - FEE\n",
    "print('Return at first month portofolio using uniform weight',return_first_month_portofolio)"
   ]
  },
  {
   "cell_type": "markdown",
   "id": "96ae047a-e7f2-47a1-9c1a-6eea5be5cbab",
   "metadata": {},
   "source": [
    "make it into a function"
   ]
  },
  {
   "cell_type": "code",
   "execution_count": null,
   "id": "66fa4aaf-6844-43d4-8918-0d8b46d1abc7",
   "metadata": {},
   "outputs": [],
   "source": [
    "def calculate_portofolio_return(return_porto,FEE) :\n",
    "\n",
    "    portofolio_return = return_porto['Rt+1'].mean() - FEE\n",
    "    return portofolio_return"
   ]
  },
  {
   "cell_type": "code",
   "execution_count": null,
   "id": "cd779a8e-d84d-4db0-b053-ea5911d63c64",
   "metadata": {},
   "outputs": [],
   "source": [
    "FEE = 0.005\n",
    "return_first_month_portofolio = calculate_portofolio_return(return_porto=return_portofolio,\n",
    "                                                            FEE=FEE)\n",
    "print('Return at first month portofolio using uniform weight',return_first_month_portofolio)"
   ]
  },
  {
   "cell_type": "markdown",
   "id": "c0d4ac5c-cd86-4276-83ae-5fa3136c54f5",
   "metadata": {},
   "source": [
    " ### Backtesting : Multi Period Example\n",
    "---"
   ]
  },
  {
   "cell_type": "markdown",
   "id": "eb476b43-0742-430b-b7b6-b630c1343c1c",
   "metadata": {},
   "source": [
    "Goals : Simulate Backtest in Multiple Period"
   ]
  },
  {
   "cell_type": "code",
   "execution_count": null,
   "id": "0d6e0aee-e425-4f1e-a166-fca4cd563e49",
   "metadata": {},
   "outputs": [],
   "source": [
    "# backtest configuration\n",
    "start_period = '2009-01-01'\n",
    "end_period = '2024-12-31'\n",
    "buffer_n_year = 2\n",
    "\n",
    "percentile = 0.1"
   ]
  },
  {
   "cell_type": "code",
   "execution_count": null,
   "id": "6d05d11f-02ea-46f6-9d1a-d2062106ae59",
   "metadata": {},
   "outputs": [],
   "source": [
    "feature_cols = ['FactorMomentum','FactorReversal','FactorLagReturn-6M']"
   ]
  },
  {
   "cell_type": "code",
   "execution_count": null,
   "id": "0d192944-6cb8-4a40-85d5-5988d2f151be",
   "metadata": {},
   "outputs": [],
   "source": [
    "stocks_data = stocks_data.copy()\n",
    "stocks_data = stocks_data.dropna(subset='Rt+1')\n",
    "stocks_data.loc[\n",
    "    (stocks_data['Date'] > start_period ) &\n",
    "    (stocks_data['Date'] < end_period)\n",
    "]\n",
    "# create buffer period\n",
    "initial_buffer_start = pd.to_datetime(start_period) + pd.offsets.MonthEnd(n=1)\n",
    "initial_buffer_end = pd.to_datetime(start_period) + pd.offsets.YearEnd(n=buffer_n_year)\n",
    "porto_construction_date = (initial_buffer_end + pd.offsets.MonthEnd(n=1))\n",
    "print('Backtest Started')\n",
    "\n",
    "\n",
    "collection_return = []\n",
    "end_time = pd.to_datetime(end_period)\n",
    "while porto_construction_date < end_time :\n",
    "\n",
    "    print('Constructing Portofolio On : ',porto_construction_date)\n",
    "    # get training data for model\n",
    "    X_buffer,y_buffer = get_training_data(data = stocks_data,\n",
    "                          initial_buffer_start = initial_buffer_start,\n",
    "                          initial_buffer_end = initial_buffer_end ,\n",
    "                          feature_cols = feature_cols)\n",
    "    print('-----Training ML Model')\n",
    "    model = train_ml_model(X_train = X_buffer,\n",
    "                          y_train = y_buffer)\n",
    "\n",
    "\n",
    "    # construct porto\n",
    "    return_portofolio = construct_portofolio(data=stocks_data,\n",
    "                            porto_date = porto_construction_date,\n",
    "                            feature_cols = feature_cols,\n",
    "                            model = model ,\n",
    "                            percentile = percentile)\n",
    "    print('-----Calculating Return')\n",
    "    return_first_month_portofolio = calculate_portofolio_return(return_porto=return_portofolio,\n",
    "                                                      FEE=FEE)\n",
    "    porto_return_df = pd.DataFrame(index=[0])\n",
    "    porto_return_df['ReturnDate'] = porto_construction_date + pd.offsets.MonthEnd(n=1)\n",
    "    porto_return_df['PortofolioReturn'] = return_first_month_portofolio\n",
    "    # calculate cumulative Return\n",
    "\n",
    "\n",
    "    collection_return.append(porto_return_df)\n",
    "    # shift buffer period\n",
    "    initial_buffer_start = initial_buffer_start + pd.offsets.MonthEnd(n=1)\n",
    "    initial_buffer_end = initial_buffer_end + pd.offsets.MonthEnd(n=1)\n",
    "    porto_construction_date = porto_construction_date + pd.offsets.MonthEnd(n=1)\n"
   ]
  },
  {
   "cell_type": "markdown",
   "id": "155ffd29-c4fd-41b0-ab23-0bf06ab57c00",
   "metadata": {},
   "source": [
    "#### Report Portofolio Performance\n",
    "---\n",
    "\n",
    "- Cumulative Return\n",
    "- Average Return\n",
    "- Volatility of Return\n"
   ]
  },
  {
   "cell_type": "markdown",
   "id": "11f2ad2d-71a3-45e1-a720-c289cb42d2bc",
   "metadata": {},
   "source": [
    "##### Calculate Cumulative Return\n",
    "---\n",
    "\n",
    "$$\n",
    "\\mathbf{CR}_{t+T} = \\mathbf{GR}_{t+1} \\times \\mathbf{GR}_{t+2} ... \\times \\mathbf{GR}_{t+T}\n",
    "$$\n",
    "\n",
    "- $\\mathbf{CR}_{t+T}$ = Compound / Cumulative Return of Portofolio Up to time T\n",
    "- $\\mathbf{GR}_{t}$ = Gross Return of Portofolio at time t\n",
    "\n",
    "where :    \n",
    "\n",
    "\n",
    "\n",
    "\n",
    "$\\mathbf{GR}_{t} = \\mathbf{Portofolio Return}_t + 1$\n"
   ]
  },
  {
   "cell_type": "code",
   "execution_count": null,
   "id": "91b7e8ff-feed-4010-a401-ae746e865c3e",
   "metadata": {},
   "outputs": [],
   "source": [
    "# combined all result in each period\n",
    "collection_return_df = pd.concat(collection_return,axis=0)\n",
    "collection_return_df['PortofolioCumulativeReturn'] = (1 + collection_return_df['PortofolioReturn'])\\\n",
    "                                                      .cumprod(axis=0)"
   ]
  },
  {
   "cell_type": "code",
   "execution_count": null,
   "id": "3925f2b5-b533-48fb-8bea-7d192758a2ee",
   "metadata": {},
   "outputs": [],
   "source": [
    "collection_return_df"
   ]
  },
  {
   "cell_type": "markdown",
   "id": "1f5173f3-945d-46ba-aea3-23d853c605a3",
   "metadata": {},
   "source": [
    "##### Mean Return\n",
    "---\n"
   ]
  },
  {
   "cell_type": "code",
   "execution_count": null,
   "id": "e56ec63d-a87b-44da-b07c-065327f5ff8c",
   "metadata": {},
   "outputs": [],
   "source": [
    "mean_return = collection_return_df['PortofolioReturn'].mean()\n",
    "print(f'Average Monthly Return : {mean_return*100} %')"
   ]
  },
  {
   "cell_type": "markdown",
   "id": "b4b30719-b9b9-45ff-856b-4d0170024b71",
   "metadata": {},
   "source": [
    "#####  Return Volatility\n",
    "---\n"
   ]
  },
  {
   "cell_type": "code",
   "execution_count": null,
   "id": "97bfe206-ca82-4c3d-a090-fc7ce3467f16",
   "metadata": {},
   "outputs": [],
   "source": [
    "return_volatility = collection_return_df['PortofolioReturn'].std()\n",
    "print(f' Monthly Return Volatility : {return_volatility*100} %')"
   ]
  },
  {
   "cell_type": "code",
   "execution_count": null,
   "id": "7b1aac90-360f-4ec8-9155-5216c1803eda",
   "metadata": {},
   "outputs": [],
   "source": [
    "print('Return Best Case : ',mean_return + 2*return_volatility)\n",
    "print('Return Worst Case : ',mean_return - 2*return_volatility)"
   ]
  },
  {
   "cell_type": "code",
   "execution_count": null,
   "id": "74b2933f-d920-48a4-8353-4f2f03c4919b",
   "metadata": {},
   "outputs": [],
   "source": [
    "def report_performance(return_data) :\n",
    "    return_data = return_data.copy()\n",
    "    return_data['PortofolioCumulativeReturn'] = (1 + return_data['PortofolioReturn'])\\\n",
    "                                                          .cumprod(axis=0)\n",
    "    mean_return = return_data['PortofolioReturn'].mean()\n",
    "    print(f'Average Monthly Return : {mean_return*100} %')\n",
    "\n",
    "\n",
    "    return_volatility = return_data['PortofolioReturn'].std()\n",
    "    print(f' Monthly Return Volatility : {return_volatility*100} %')\n",
    "\n",
    "    return return_data,mean_return,return_volatility"
   ]
  },
  {
   "cell_type": "markdown",
   "id": "d0fb5e73-979a-47d3-8359-e91e4b79778c",
   "metadata": {},
   "source": [
    "#### Compare with Index Return  \n",
    "---"
   ]
  },
  {
   "cell_type": "markdown",
   "id": "42f2d540-66b6-4b35-90f4-7f1dfd01953e",
   "metadata": {},
   "source": [
    "Compare with IHSG Return"
   ]
  },
  {
   "cell_type": "code",
   "execution_count": null,
   "id": "47cca900-0b95-4577-9594-51abb4fa92c0",
   "metadata": {},
   "outputs": [],
   "source": [
    "ihsg_return = yf.Ticker('^JKSE')\\\n",
    "                .history(period='max')\n",
    "# resample into monthly data\n",
    "ihsg_return = ihsg_return.resample('M').last()\n",
    "ihsg_return  = ihsg_return.reset_index()\n",
    "# calculate monhtly return\n",
    "ihsg_return['Return'] =  (ihsg_return['Close'] - ihsg_return['Close'].shift(1))\\\n",
    "                            / (ihsg_return['Close'].shift(1))\n",
    "ihsg_return['Return'] = ihsg_return['Return']- FEE\n",
    "ihsg_return = ihsg_return.loc[\n",
    "    (ihsg_return['Date'] >='2011-02-28')\n",
    "    & (ihsg_return['Date'] <= '2024-12-31')\n",
    "]\n",
    "\n",
    "\n",
    "\n",
    "ihsg_return['CumReturn'] = (1 + ihsg_return['Return']).cumprod()\n",
    "\n",
    "\n",
    "ihsg_return = ihsg_return[['Date','Return','CumReturn']]\n",
    "ihsg_return\n"
   ]
  },
  {
   "cell_type": "markdown",
   "id": "50c059dc-376a-4d7a-9ac3-549e92a3102d",
   "metadata": {},
   "source": [
    "#### Visualize Return\n",
    "---"
   ]
  },
  {
   "cell_type": "code",
   "execution_count": null,
   "id": "6c816478-63c4-4417-a660-afa425759b30",
   "metadata": {},
   "outputs": [],
   "source": [
    "fig = plt.figure(figsize=(12,6))\n",
    "\n",
    "sns.lineplot(x=collection_return_df['ReturnDate'],\n",
    "             y=collection_return_df['PortofolioCumulativeReturn'],label='ML Porto Uniform (Top 10%)')\n",
    "sns.lineplot(x=ihsg_return['Date'],\n",
    "             y=ihsg_return['CumReturn'],label='IHSG Return ')\n",
    "plt.title('Cumulative Return , FEE 0.5%')"
   ]
  },
  {
   "cell_type": "markdown",
   "id": "e2c9499f-49c2-4448-bb98-e22bd3c72a58",
   "metadata": {},
   "source": [
    "Summary :  \n",
    "- Our portofolio has pretty big decline after some increment (Drawdown), for example :  \n",
    "    - 2011 to 2012\n",
    "    - 2013 to 2014\n",
    "    - 2019 to 2020 (Covid Crisis)\n",
    "\n",
    "- Biggest Increase occured in 2020 to 2022\n",
    "\n",
    "- Our portofolio is not good enough since so many drawdowns"
   ]
  },
  {
   "cell_type": "markdown",
   "id": "b5bc27c1-c61f-421b-ae84-92df23644c41",
   "metadata": {},
   "source": [
    "## Wrapping Up\n",
    "---\n"
   ]
  },
  {
   "cell_type": "markdown",
   "id": "f04e7862-3624-4538-9449-cb3200862fe8",
   "metadata": {},
   "source": [
    "Combine from steps above :     \n",
    "\n",
    "- Create Buffer Period\n",
    "- Create Train Machine Learning\n",
    "- Construct Portofolio\n",
    "- Calculate Portofolio Return\n",
    "- Report Portofolio Performance"
   ]
  },
  {
   "cell_type": "code",
   "execution_count": null,
   "id": "50851915-7a61-4acb-9251-a869eaad58a7",
   "metadata": {},
   "outputs": [],
   "source": [
    "def run_backtest(stocks_data,\n",
    "                 start_period, # start period for backtest\n",
    "                 end_period, # end period for backtest\n",
    "                 percentile, # Top % Stock to pick\n",
    "                 buffer_n_year,# number of year n buffer to train machine learning model\n",
    "                 feature_cols, # feature columns to select\n",
    "                 FEE) :        # fee assumption\n",
    "\n",
    "    stocks_data = stocks_data.copy()\n",
    "    stocks_data.loc[\n",
    "        (stocks_data['Date'] > start_period ) &\n",
    "        (stocks_data['Date'] < end_period)\n",
    "    ]\n",
    "    # create buffer period\n",
    "    initial_buffer_start = pd.to_datetime(start_period) + pd.offsets.MonthEnd(n=1) # end of month from start priod\n",
    "    initial_buffer_end = pd.to_datetime(start_period) + pd.offsets.YearEnd(n=buffer_n_year) # start period + n year\n",
    "    porto_construction_date = (initial_buffer_end + pd.offsets.MonthEnd(n=1)) #\n",
    "    end_time = pd.to_datetime(end_period)\n",
    "\n",
    "    collection_return = []\n",
    "    try :\n",
    "      while porto_construction_date < end_time :\n",
    "\n",
    "          print('Constructing Portofolio On : ',porto_construction_date)\n",
    "          # get training data for model\n",
    "          X_buffer,y_buffer = get_training_data(data = stocks_data,\n",
    "                                initial_buffer_start = initial_buffer_start,\n",
    "                                initial_buffer_end = initial_buffer_end ,\n",
    "                                feature_cols = feature_cols)\n",
    "          print('-----Training ML Model')\n",
    "          model = train_ml_model(X_train = X_buffer,\n",
    "                                y_train = y_buffer)\n",
    "\n",
    "\n",
    "          # construct porto\n",
    "          return_portofolio = construct_portofolio(data=stocks_data,\n",
    "                                  porto_date = porto_construction_date,\n",
    "                                  feature_cols = feature_cols,\n",
    "                                  model = model ,\n",
    "                                  percentile = percentile)\n",
    "          print('-----Calculating Return')\n",
    "          return_portofolio = calculate_portofolio_return(return_porto=return_portofolio,\n",
    "                                                            FEE=FEE)\n",
    "          print('Return')\n",
    "          porto_return_df = pd.DataFrame(index=[0])\n",
    "          porto_return_df['ReturnDate'] = porto_construction_date + pd.offsets.MonthEnd(n=1)\n",
    "          porto_return_df['PortofolioReturn'] = return_portofolio\n",
    "          collection_return.append(porto_return_df)\n",
    "          # calculate cumulative Return\n",
    "\n",
    "          # shift buffer period\n",
    "          initial_buffer_start = initial_buffer_start + pd.offsets.MonthEnd(n=1)\n",
    "          initial_buffer_end = initial_buffer_end + pd.offsets.MonthEnd(n=1)\n",
    "          porto_construction_date = porto_construction_date + pd.offsets.MonthEnd(n=1)\n",
    "\n",
    "    except Exception as e:\n",
    "        print(f\"An error occurred: {e}\")\n",
    "\n",
    "    finally:\n",
    "        print('Preparing Performance Report')\n",
    "        if collection_return:\n",
    "            collection_return_df = pd.concat(collection_return, axis=0).reset_index(drop=True)\n",
    "            # Calculate cumulative return\n",
    "            (collection_return_df,\n",
    "              mean_return,\n",
    "                  return_volatility) = report_performance(return_data = collection_return_df)\n",
    "            return collection_return_df,mean_return,return_volatility\n",
    "        else:\n",
    "            print(\"No portfolio returns to calculate.\")\n",
    "            return pd.DataFrame()  # Return an empty DataFrame if no data exists\n",
    "\n"
   ]
  },
  {
   "cell_type": "markdown",
   "id": "9fae22ba-b9b5-43c4-9b43-8fdbe591f99d",
   "metadata": {},
   "source": [
    "#### Backtest Example : 1\n",
    "----\n",
    "\n",
    "Setups :    \n",
    "- Invest in Top 30% Stock\n",
    "- buffer_n_year = 2\n",
    "- FEE = 0.5%"
   ]
  },
  {
   "cell_type": "code",
   "execution_count": null,
   "id": "cb48d833-ba41-4117-b7c1-29f6b927e85d",
   "metadata": {},
   "outputs": [],
   "source": [
    "backtest_config = {\n",
    "    'stocks_data' : stocks_data ,\n",
    "    'start_period' : '2009-01-01',\n",
    "    'end_period' : '2024-12-31',\n",
    "    'percentile' : 0.3,  # top 30%\n",
    "    'buffer_n_year' : 2 ,\n",
    "    'feature_cols' : ['FactorMomentum','FactorReversal','FactorLagReturn-6M'] ,\n",
    "    'FEE' : 0.005\n",
    "}\n",
    "top30= run_backtest(**backtest_config)"
   ]
  },
  {
   "cell_type": "markdown",
   "id": "20c31b7a-198e-4d80-9af4-4b291ff1d8a8",
   "metadata": {},
   "source": [
    "#### Backtest Example : 2\n",
    "----\n",
    "\n",
    "Setups :    \n",
    "- Invest in Top 50% Return\n",
    "- buffer_n_year = 2\n",
    "- FEE = 0.5%"
   ]
  },
  {
   "cell_type": "code",
   "execution_count": null,
   "id": "6dd9382f-a3d2-431a-b437-2233166d0df2",
   "metadata": {},
   "outputs": [],
   "source": [
    "backtest_config2= {\n",
    "    'stocks_data' : stocks_data ,\n",
    "    'start_period' : '2009-01-01',\n",
    "    'end_period' : '2024-12-31',\n",
    "    'percentile' : 0.5,  # top 50%\n",
    "    'buffer_n_year' : 2 ,\n",
    "    'feature_cols' : ['FactorMomentum','FactorReversal','FactorLagReturn-6M'] ,\n",
    "    'FEE' : 0.005\n",
    "}\n",
    "top50= run_backtest(**backtest_config2)"
   ]
  },
  {
   "cell_type": "code",
   "execution_count": null,
   "id": "637609eb-65e1-4eeb-8ad3-185dcd055a1e",
   "metadata": {},
   "outputs": [],
   "source": [
    "top50[0]"
   ]
  },
  {
   "cell_type": "code",
   "execution_count": null,
   "id": "39de85ed-c68f-4c0f-b6b9-6e4718e525dd",
   "metadata": {},
   "outputs": [],
   "source": [
    "fig = plt.figure(figsize=(12,6))\n",
    "\n",
    "sns.lineplot(x=collection_return_df['ReturnDate'],\n",
    "             y=collection_return_df['PortofolioReturn'],label='Top 10% ML Porto Uniform')\n",
    "sns.lineplot(x=top30[0]['ReturnDate'],\n",
    "             y=top30[0]['PortofolioReturn'],label='Top 30% ML Porto Uniform')\n",
    "sns.lineplot(x=top50[0]['ReturnDate'],\n",
    "             y=top50[0]['PortofolioReturn'],label='Top 50% ML Porto Uniform')\n",
    "sns.lineplot(x=ihsg_return['Date'],\n",
    "              y=ihsg_return['Return'],label='IHSG Return ')\n",
    "plt.title('Nett Return , FEE 0.5%')"
   ]
  },
  {
   "cell_type": "markdown",
   "id": "0d8a8d25-dda8-4069-a1c9-80b7742c563f",
   "metadata": {},
   "source": [
    "Summary :\n",
    "- In terms of nett return we can see so many fluctuations\n",
    "- Since we are using the same variable we can see the same pattern, with different level of depth\n",
    "- As number of stock growth we can see the volatility gets lower"
   ]
  },
  {
   "cell_type": "code",
   "execution_count": null,
   "id": "82ced1ea-393d-4e69-a8bd-4d9d734ae11d",
   "metadata": {},
   "outputs": [],
   "source": [
    "fig = plt.figure(figsize=(12,6))\n",
    "\n",
    "sns.lineplot(x=collection_return_df['ReturnDate'],\n",
    "             y=collection_return_df['PortofolioCumulativeReturn'],label='Top 10% ML Porto Uniform')\n",
    "sns.lineplot(x=top30[0]['ReturnDate'],\n",
    "             y=top30[0]['PortofolioCumulativeReturn'],label='Top 30% ML Porto Uniform')\n",
    "sns.lineplot(x=top50[0]['ReturnDate'],\n",
    "             y=top50[0]['PortofolioCumulativeReturn'],label='Top 50% ML Porto Uniform')\n",
    "sns.lineplot(x=ihsg_return['Date'],\n",
    "             y=ihsg_return['CumReturn'],label='IHSG Return ')\n",
    "plt.title('Cumulative Return , FEE 0.5%')"
   ]
  },
  {
   "cell_type": "markdown",
   "id": "5e7c8ad9-71f8-4997-ac73-aaf52a5ac385",
   "metadata": {},
   "source": [
    "Summary :  \n",
    "- For the strategy above we can see that the pattern quite the same, lot of drawdown\n",
    "- Our strategy already beat the market (IHSG)\n",
    "- For top 30% and top 50% strategy we already multiplied our initial investment in 2011 into factor of 3\n",
    "- However we need to be cautious even though in long run (>10 years) profitable in the narrow cycle the investment value may decline many times\n"
   ]
  },
  {
   "cell_type": "markdown",
   "id": "1a1c78e7-87de-44cc-90f6-7ead7abdd9ae",
   "metadata": {},
   "source": [
    "**Disclaimer** :\n",
    "- This is not investment advice, pure educational / research purpose\n",
    "- Backtest result may not reflect real condition in real market"
   ]
  },
  {
   "cell_type": "markdown",
   "id": "4abc15e9-d0f9-4c99-9571-7dd8f1ada9dd",
   "metadata": {},
   "source": [
    "## Self Experiment\n",
    "---"
   ]
  },
  {
   "cell_type": "markdown",
   "id": "934c0e5c-9676-45c0-9403-81089ded6cb3",
   "metadata": {},
   "source": [
    "### $1^{st}$ Experiment"
   ]
  },
  {
   "cell_type": "markdown",
   "id": "dd97e4aa-e4c1-4c9e-801b-aa1cb4a5549f",
   "metadata": {},
   "source": [
    "- Perform Backtest with following setups\n",
    "\n",
    "1. Pick top 50% stock\n",
    "2. Set FEE = 0.5%\n",
    "3. buffer_n_year = 3 years\n",
    "4. use feature_cols = ['FactorMomentum','FactorReversal']"
   ]
  },
  {
   "cell_type": "code",
   "execution_count": null,
   "id": "4bc3f525-06ab-4fa0-a96a-d6a5d899ce1e",
   "metadata": {},
   "outputs": [],
   "source": []
  },
  {
   "cell_type": "code",
   "execution_count": null,
   "id": "bb2c0c5d-052e-450b-a978-d5d26b42983c",
   "metadata": {},
   "outputs": [],
   "source": []
  }
 ],
 "metadata": {
  "kernelspec": {
   "display_name": "Python (main-ds)",
   "language": "python",
   "name": "main-ds"
  },
  "language_info": {
   "codemirror_mode": {
    "name": "ipython",
    "version": 3
   },
   "file_extension": ".py",
   "mimetype": "text/x-python",
   "name": "python",
   "nbconvert_exporter": "python",
   "pygments_lexer": "ipython3",
   "version": "3.9.23"
  }
 },
 "nbformat": 4,
 "nbformat_minor": 5
}
